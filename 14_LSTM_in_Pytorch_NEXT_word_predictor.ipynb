{
  "nbformat": 4,
  "nbformat_minor": 0,
  "metadata": {
    "colab": {
      "provenance": [],
      "gpuType": "T4"
    },
    "kernelspec": {
      "name": "python3",
      "display_name": "Python 3"
    },
    "language_info": {
      "name": "python"
    },
    "accelerator": "GPU"
  },
  "cells": [
    {
      "cell_type": "code",
      "execution_count": 98,
      "metadata": {
        "id": "1slhZusC1Bg5"
      },
      "outputs": [],
      "source": [
        "import torch\n",
        "import torch.nn as nn\n",
        "from torch.utils.data import Dataset, DataLoader\n",
        "import pandas as pd\n",
        "import numpy as np\n",
        "import nltk"
      ]
    },
    {
      "cell_type": "code",
      "source": [
        "nltk.download('punkt')\n",
        "nltk.download('punkt_tab')"
      ],
      "metadata": {
        "colab": {
          "base_uri": "https://localhost:8080/"
        },
        "id": "DgwsBjxv1Q-p",
        "outputId": "a25291c6-5064-4de5-8651-2eaaadcb0236"
      },
      "execution_count": 99,
      "outputs": [
        {
          "output_type": "stream",
          "name": "stderr",
          "text": [
            "[nltk_data] Downloading package punkt to /root/nltk_data...\n",
            "[nltk_data]   Package punkt is already up-to-date!\n",
            "[nltk_data] Downloading package punkt_tab to /root/nltk_data...\n",
            "[nltk_data]   Package punkt_tab is already up-to-date!\n"
          ]
        },
        {
          "output_type": "execute_result",
          "data": {
            "text/plain": [
              "True"
            ]
          },
          "metadata": {},
          "execution_count": 99
        }
      ]
    },
    {
      "cell_type": "code",
      "source": [
        "from nltk.tokenize import word_tokenize"
      ],
      "metadata": {
        "id": "0Dqr7xMq2rPy"
      },
      "execution_count": 100,
      "outputs": []
    },
    {
      "cell_type": "code",
      "source": [
        "document = '''What are the different online payment modes available\n",
        "Debit Card/Credit Card/Net Banking.\n",
        "  I have paid the Application fee but the Application Payment Status is not updated yet\n",
        "The Application Payment Status will be updated shortly.\n",
        "OR\n",
        "Your online transaction might have failed completely and the amount will be refunded back to your respective bank account shortly. The refund will be processed as per your concerned bank's refund policy.\n",
        "  My initial online application fee payment got failed completely How can I make the payment again\n",
        "The Application Payment Status will be updated shortly.\n",
        "ORIf initial online transaction failed completely, then Application fee can be paid through online by clicking the link provided under \"Payment Status\" against the respective \"Application No.\" in Step-2 of your account (OR) through Demand Draft drawn in favour of \"The Registrar, IIT Madras\" and send it by post to the following address with your Registered Email ID, Name & Application No. written on the backside of the Demand Draft:\n",
        "The Deputy Registrar (Research),\n",
        "Indian Institute of Technology Madras,\n",
        "IV Floor, Administration Building,\n",
        "IIT Madras Campus,Chennai - 600 036.\n",
        "Your online transaction might have failed completely and the amount will be refunded back to your respective bank account shortly. The refund will be processed as per your concerned bank's refund policy.\n",
        "  I am an Indian citizen residing outside India. How can I make Application Fee Payment\n",
        "Indian citizens who are residing outside India may use the Debit Card/Credit Card/Net Banking option to make the Application Fee Payment.\n",
        "  What type of residency I should choose under residency type\n",
        "You may choose between Hosteller and Day Scholar based on your preference at the time of joining the Institute.\n",
        "  What are the documents/files required to upload in the Application form\n",
        "The applicant(s) has to scan & upload the following valid documents/files (as applicable) pertaining to them while applying:\n",
        "1. Photo\n",
        "2. Signature\n",
        "3. Photo Identity Proof\n",
        "4. Category certificate (OBC-NCL/SC/ST/EWS)\n",
        "5. Person with Disability (PwD) certificate\n",
        "6. UG Marks Statement/Degree Certificate\n",
        "7. UG University Rank certificate\n",
        "8. PG Marks Statement/Degree Certificate\n",
        "9. PG University Rank certificate\n",
        "10. National/International Level Exam score card/award letter/certificate\n",
        "11. Work Experience Certificate\n",
        "12. NHTRA Self Declaration\n",
        "13. Research Proposal[PDF format] - only for Management Studies department\n",
        "  How long is a GATE Score valid\n",
        "Only for 3 years.\n",
        "  It is keeping on showing; your GATE detail is incorrect\n",
        "GATE Score is valid only for 3 years. Please check the validity of your score. While entering GATE details, enter Registration No. with subject code (eg: ME18S12345678). You have to enter the GATE \"Score\" (out of 1000) under the respective field provided in \"Basic Profile\" of the Application form.\n",
        "  How can I upload my GATE Score Card\n",
        "Scan your GATE Score card and upload it under the \"Supporting Documents\" field provided in the “Basic Profile” page.\n",
        " . I am qualified for both GATE and UGC-JRF recently. Can I apply for Ph.D. with both valid GATE and UGC-JRF\n",
        "You should register separate applications for Ph.D. with valid GATE and UGC-JRF qualification individually and pay the application fee separately.\n",
        "  I want to apply to more than 4 departments now, how to do\n",
        "You can submit separate application for each department of your choice by paying separate application fee.\n",
        "  I have some additional Qualification, where to enter\n",
        "You can enter any relevant additional details under the “Additional Information” section provided in “Basic Profile” page of the Application form.\n",
        "  I am not able to access Step-2 \"Apply to Department\" page\n",
        "You need to fill up the mandatory fields provided under \"Basic Profile\" section and click the \"Submit Profile\" button after checking the check box to move to \"Apply to Department\" page.\n",
        "  I have made some minor mistakes in my Application, how can I correct it\n",
        "You may inform about the minor mistake committed in your application at the time of interview and submit valid proof in original along with one set of photocopy to support your claim.\n",
        "If you have committed any major mistake in your application which may affect your application shortlisting, then register a fresh application.\n",
        "  I am a University Rank holder in PG degree but my university haven't issued any Rank certificate to me. What is the solution\n",
        "If you are a University Rank holder in PG degree, then you have to upload some valid proof to support your claim at the time of applying and produce the authorized University Rank certificate at the time of interview.\n",
        "  My Discipline is not listed, what can I do\n",
        "Select your “Degree” from the drop down provided. Then select the option \"All other disciplines…\" under the drop down \"Discipline\" and enter your Discipline name in the additional text box provided.\n",
        "  I am using Chrome/Firefox/IE/Opera browser. I am unable to proceed to \"Apply to Department\" page\n",
        "Perhaps you might have not submitted your “Basic Profile”. Please check the “check box” provided and click \"Submit Profile\" button to proceed to \"Apply to Department\" page.Similarly in the \"Apply to Department\" page, check the “check box” provided and click \"Submit Application and Make Payment\" button to submit the application and proceed to payment page.The application form has been tested on multiple browsers and operating systems.\n",
        "  When/how to know, whether my application is submitted successfully\n",
        "After final submission of your Application and successful payment of Application fee.\n",
        "  Site is slow\n",
        "Please be patient. We cater to over 5000 users, many of whom will be concurrent users of the database.\n",
        " . Can I apply for various Research programmes in the same department\n",
        "If you are fulfilling the eligibility criteria to apply for various research programme(s) in a particular department, then you can register application individually for each research programme in the same department and pay the application fee separately.\n",
        "  I am not able to upload my UGC-NET certificate since it has not reached yet. I have valid GATE score card but my selection procedure has to be done according to my UGC-NET Rank. What shall I do now\n",
        "If you are applying with UGC-NET qualification, then you have to upload some valid proof to support your claim at the time of applying and produce the authorized UGC-NET certificate at the time of interview.\n",
        "  I have wrongly entered my Date of Birth, how can I correct it\n",
        "At the time of interview, submit your valid Birth Certificate/SSLC/SSC/Matriculation certificate in original along with one set of photocopy of the same for correction.\n",
        "  I want to know, if I am applying for more than one department, then how much amount should I pay\n",
        "You can submit separate application to each department(s) of your choice by paying separate application fee.\n",
        "  What is the percentage of mark equivalent to 8.0 CGPA on a 10.0 point scale\n",
        "CGPA to Percentage is Percentage = 10 (CGPA-0.5)\n",
        "  What is the minimum residential requirement for External / Part-time Category\n",
        "For External / Part-time Category, one semester residential requirement is compulsory to do course work. However, person residing within the commutable distance from IIT Madras will be permitted to do course work without the residential requirement with the permission of their institution subject to fulfilling the course requirement.\n",
        "  What are the eligibility criteria’s for applying to Direct Ph.D.\n",
        "1. B.Tech./B.S (4 year) degree holder of Centrally Funded Technical Institute with a minimum CGPA of 8.0 on a 10.0 point scale or 75% without valid GATE Score.\n",
        "2. B.Tech./B.S (4 year) degree holder of Centrally Funded Technical Institute with CGPA less than 8.0 on a 10.0 point scale or <75% with valid GATE Score.\n",
        "3. B.Tech./B.E/B.S (4 year) degree holder from any other University with minimum CGPA of 8.0 on a 10.0 point scale or 75% and having a valid GATE score.\n",
        "4. Candidates possessing MBBS/BDS degree with minimum first class and valid NEET PG qualifying score can apply under HTRA category in Engineering Design department. If the candidate meets the above degree requirement but doesn't possess valid NEET PG qualifying score, then they can apply under NHTRA category to the same department.\n",
        "5. Candidates possessing M.Sc (Maths) or M.Sc (Computer Science) from CFTI or a highly recognized institute such as Indian Statistical Institute and Chennai Mathematical Institute with the minimum CGPA of 8.0 on 10.0 scale and valid GATE (Maths) or GATE (CS) score can apply under HTRA category in Computer Science & Engineering department.\n",
        "  I have completed my B.Tech. in Mechatronics, can I apply for M.S. in a different department which is not directly related to my educational background\n",
        "Candidates having main subject in one department can apply for another department. However, please check area for research in the admission brochure before applying.\n",
        "  I have completed my M.S. in US, whether it is equivalent to M.Tech., am I eligible for Ph.D.\n",
        "For M.S. from US/UK, if it is 2 years programme, then it is equivalent to M.Tech. Whereas courses having duration of below 2 years will not be considered as PG Degree equivalent for Ph.D. admission.\n",
        "  How many applications can I register to a particular department in a month\n",
        "You can register maximum upto 3 applications to a particular department in a month.\n",
        " . I am having MBA with 13 years work experience and currently heading an IT start up as a Co-founder & CEO, can I apply for research programme. If so, which option should I select under financial support\n",
        "You can apply for Research programme under External / Part-time category subject to fulfilling other eligibility criteria as mentioned in the admission brochure.\n",
        "  I am working at Mumbai currently, can I apply for research programme under Part-time category\n",
        "No, Part-time category is meant only for candidates working within commutable distance from IIT Madras.\n",
        "  I have filled and submitted the two steps of application viz. \"Basic Profile\" & \"Apply to Department\", but the Payment Status is shown as “Payment Not Completed”. What should I do\n",
        "Click on the link \"Payment Not Completed\" provided against the respective \"Application No.\" and make the application fee payment to complete your application process.\n",
        "  How to download the registered application after completion of application fee payment\n",
        "You may login to the research admission portal and go to \"Apply to Department\" page to download the registered application with payment details.\n",
        "  Whether the application can be edited after final submission\n",
        "You can't edit the application after final submission. You have to register a new application and pay the application fee again.\n",
        "  I am not getting any option to select under the field “Research Programme” in Step-2 “Apply to Department” page\n",
        "You may reconfirm whether you are fulfilling all relevant eligibility criteria(s) mentioned in the Research admission brochure & application portal for the respective Residence Type & Financial Support that you have selected under “Apply to Department” page and the “Basic Profile” is filled correctly.\n",
        "  I have qualified for UGC-JRF before 10 years and now I am applying for Ph.D. programme with UGC-JRF qualification. But I am not getting the option for selecting the UGC-JRF qualified year under Basic Profile page. Why\n",
        "You are eligible to apply for Ph.D. programme with UGC-JRF qualification, only if your UGC-JRF qualified year is valid and tenable for the current period of admission.\n",
        "  I belong to OBC category and fall under Creamy Layer as per my current financial status. Under which category should I apply\n",
        "If you belongs to OBC category and falls under Creamy Layer as per your current financial status, then you are eligible to apply under General category only.\n",
        "  I am not eligible to claim EWS reservation and I doesn’t belong to any other reservation category such as OBC-NCL, SC & ST. Under which category should I apply\n",
        "If you are not eligible to claim EWS reservation and doesn’t belong to any other reservation category such as OBC-NCL, SC & ST, then you are eligible to apply under General category only.\n",
        "  What is the minimum percentage of relevant disability required to be eligible to apply under PwD category\n",
        "Person with minimum 40% relevant disability is considered to be eligible to apply under PwD category.\n",
        " . How can I reset the password of my account\n",
        "Under Login link, click ”Request new password” option and follow the instructions to reset the password of your account.\n",
        "  Can I reset the username of my account\n",
        "You are not allowed to reset the username. If you have forgotten your username, then use “Request new password” option to view the existing username of your account.\n",
        "  Can I change the primary Email ID provided at the time of creating my account\n",
        "You are not allowed to change the primary Email ID provided at the time of creating your account. If you want to use a different Email ID as primary Email ID, then create a new account using the different Email ID.\n",
        "  Where could I check the further updates regarding application shortlisting, test/interview schedule and results pertaining to research admission\n",
        "You can check the department website for further updates regarding application shortlisting, test/interview schedule and results pertaining to research admission. You may keep in touch with the department(s) in which you have applied for the status of your application. To access the department website and to view the Contact details of various department(s), click the link “Department” provided under Research Main Menu.\n",
        "  Any issue(s) other than mentioned in FAQ\n",
        "Send a mail to “resadmission[At]iitm[Dot]ac[Dot]in”.\n",
        "'''"
      ],
      "metadata": {
        "id": "C2C3XJ2w2vLu"
      },
      "execution_count": 101,
      "outputs": []
    },
    {
      "cell_type": "code",
      "source": [
        "tokens = word_tokenize(document.lower())"
      ],
      "metadata": {
        "id": "Btm33lPA5JK7"
      },
      "execution_count": 102,
      "outputs": []
    },
    {
      "cell_type": "code",
      "source": [
        "vocab = {'<unk>': 0}\n",
        "from collections import Counter\n",
        "for tokens in Counter(tokens).keys():\n",
        "  if tokens not in vocab:\n",
        "    vocab[tokens] = len(vocab)"
      ],
      "metadata": {
        "id": "cVMgqFkH5Mf6"
      },
      "execution_count": 103,
      "outputs": []
    },
    {
      "cell_type": "code",
      "source": [
        "len(vocab)"
      ],
      "metadata": {
        "colab": {
          "base_uri": "https://localhost:8080/"
        },
        "id": "XKGX2CEh5hv5",
        "outputId": "0d140230-56ac-486f-e362-24a15de7f4ee"
      },
      "execution_count": 104,
      "outputs": [
        {
          "output_type": "execute_result",
          "data": {
            "text/plain": [
              "560"
            ]
          },
          "metadata": {},
          "execution_count": 104
        }
      ]
    },
    {
      "cell_type": "code",
      "source": [
        "# extract sentences from data\n",
        "def text_to_index(sent, vocab):\n",
        "  numerical_sent = []\n",
        "  for token in sent:\n",
        "    if token in vocab:\n",
        "      numerical_sent.append(vocab[token])\n",
        "    else:\n",
        "      numerical_sent.append(vocab['<unk>'])\n",
        "  return numerical_sent\n",
        "\n",
        "\n",
        "input_sentences = document.split('\\n')\n",
        "input_numerical_sent = []\n",
        "\n",
        "for sent in input_sentences:\n",
        "  input_numerical_sent.append(text_to_index(word_tokenize(sent.lower()), vocab))"
      ],
      "metadata": {
        "id": "kRYp7kZq55-m"
      },
      "execution_count": 105,
      "outputs": []
    },
    {
      "cell_type": "code",
      "source": [
        "training_seq = []\n",
        "for sent in input_numerical_sent:\n",
        "  for i in range(1, len(sent)):\n",
        "    training_seq.append(sent[:i+1])"
      ],
      "metadata": {
        "id": "RJJCkSVD6EUg"
      },
      "execution_count": 106,
      "outputs": []
    },
    {
      "cell_type": "code",
      "source": [
        "len(training_seq)"
      ],
      "metadata": {
        "colab": {
          "base_uri": "https://localhost:8080/"
        },
        "id": "lLxMQbpqWpRz",
        "outputId": "de7b2b23-c6d7-4311-f092-1f0b5b758537"
      },
      "execution_count": 107,
      "outputs": [
        {
          "output_type": "execute_result",
          "data": {
            "text/plain": [
              "2387"
            ]
          },
          "metadata": {},
          "execution_count": 107
        }
      ]
    },
    {
      "cell_type": "code",
      "source": [
        "lenlist = []\n",
        "for seq in training_seq:\n",
        "  lenlist.append(len(seq))\n",
        "\n",
        "max(lenlist)"
      ],
      "metadata": {
        "colab": {
          "base_uri": "https://localhost:8080/"
        },
        "id": "K09jEvYdc9uF",
        "outputId": "28614bfd-dc09-4260-97b6-2215b4033f33"
      },
      "execution_count": 108,
      "outputs": [
        {
          "output_type": "execute_result",
          "data": {
            "text/plain": [
              "84"
            ]
          },
          "metadata": {},
          "execution_count": 108
        }
      ]
    },
    {
      "cell_type": "code",
      "source": [
        "padded_training_seq = []\n",
        "for seq in training_seq:\n",
        "  padded_training_seq.append([0] * (max(lenlist) - len(seq)) + seq)"
      ],
      "metadata": {
        "id": "zXgll3eceK9W"
      },
      "execution_count": 109,
      "outputs": []
    },
    {
      "cell_type": "code",
      "source": [
        "len(padded_training_seq[3])"
      ],
      "metadata": {
        "colab": {
          "base_uri": "https://localhost:8080/"
        },
        "id": "o-PGzGwEecX4",
        "outputId": "0fd4cd96-3b89-4aa3-9fdd-dade02437e1c"
      },
      "execution_count": 110,
      "outputs": [
        {
          "output_type": "execute_result",
          "data": {
            "text/plain": [
              "84"
            ]
          },
          "metadata": {},
          "execution_count": 110
        }
      ]
    },
    {
      "cell_type": "code",
      "source": [
        "padded_training_seq = torch.tensor(padded_training_seq, dtype=torch.long)"
      ],
      "metadata": {
        "id": "3BJ-lyYAemH4"
      },
      "execution_count": 111,
      "outputs": []
    },
    {
      "cell_type": "code",
      "source": [
        "padded_training_seq"
      ],
      "metadata": {
        "colab": {
          "base_uri": "https://localhost:8080/"
        },
        "id": "7K0UoGXTe2oE",
        "outputId": "334fa5fc-32db-43ad-e001-ba3e3487d474"
      },
      "execution_count": 112,
      "outputs": [
        {
          "output_type": "execute_result",
          "data": {
            "text/plain": [
              "tensor([[  0,   0,   0,  ...,   0,   1,   2],\n",
              "        [  0,   0,   0,  ...,   1,   2,   3],\n",
              "        [  0,   0,   0,  ...,   2,   3,   4],\n",
              "        ...,\n",
              "        [  0,   0,   0,  ..., 558, 193,  69],\n",
              "        [  0,   0,   0,  ..., 193,  69, 229],\n",
              "        [  0,   0,   0,  ...,  69, 229,  13]])"
            ]
          },
          "metadata": {},
          "execution_count": 112
        }
      ]
    },
    {
      "cell_type": "code",
      "source": [
        "device = 'cuda' if torch.cuda.is_available else 'cpu'\n",
        "device"
      ],
      "metadata": {
        "colab": {
          "base_uri": "https://localhost:8080/",
          "height": 36
        },
        "id": "8ADmLjVhe3vu",
        "outputId": "e53eb559-b8dd-4f35-afd4-b80cdcb0010d"
      },
      "execution_count": 113,
      "outputs": [
        {
          "output_type": "execute_result",
          "data": {
            "text/plain": [
              "'cuda'"
            ],
            "application/vnd.google.colaboratory.intrinsic+json": {
              "type": "string"
            }
          },
          "metadata": {},
          "execution_count": 113
        }
      ]
    },
    {
      "cell_type": "code",
      "source": [
        "X = padded_training_seq[:, :-1]\n",
        "y = padded_training_seq[:, -1]"
      ],
      "metadata": {
        "id": "IbfamHkSfH6z"
      },
      "execution_count": 114,
      "outputs": []
    },
    {
      "cell_type": "code",
      "source": [],
      "metadata": {
        "id": "MWaOssEufNcA"
      },
      "execution_count": 114,
      "outputs": []
    },
    {
      "cell_type": "code",
      "source": [
        "class CustomDataset(Dataset):\n",
        "  def __init__(self, X, y):\n",
        "    self.X = X\n",
        "    self.y = y\n",
        "\n",
        "  def __len__(self):\n",
        "    return self.X.shape[0]\n",
        "\n",
        "  def __getitem__(self, index) :\n",
        "    return self.X[index], self.y[index]"
      ],
      "metadata": {
        "id": "M6Q02dPsfN-C"
      },
      "execution_count": 115,
      "outputs": []
    },
    {
      "cell_type": "code",
      "source": [
        "dataset = CustomDataset(X, y)\n",
        "dataset[3]"
      ],
      "metadata": {
        "colab": {
          "base_uri": "https://localhost:8080/"
        },
        "id": "mLw_lswQfwaf",
        "outputId": "9b9b5033-b10c-406b-84df-5e74a26b6317"
      },
      "execution_count": 116,
      "outputs": [
        {
          "output_type": "execute_result",
          "data": {
            "text/plain": [
              "(tensor([0, 0, 0, 0, 0, 0, 0, 0, 0, 0, 0, 0, 0, 0, 0, 0, 0, 0, 0, 0, 0, 0, 0, 0,\n",
              "         0, 0, 0, 0, 0, 0, 0, 0, 0, 0, 0, 0, 0, 0, 0, 0, 0, 0, 0, 0, 0, 0, 0, 0,\n",
              "         0, 0, 0, 0, 0, 0, 0, 0, 0, 0, 0, 0, 0, 0, 0, 0, 0, 0, 0, 0, 0, 0, 0, 0,\n",
              "         0, 0, 0, 0, 0, 0, 0, 1, 2, 3, 4]),\n",
              " tensor(5))"
            ]
          },
          "metadata": {},
          "execution_count": 116
        }
      ]
    },
    {
      "cell_type": "code",
      "source": [
        "dataloader = DataLoader(dataset, 32, shuffle=True)"
      ],
      "metadata": {
        "id": "8nnXJOPvfzre"
      },
      "execution_count": 117,
      "outputs": []
    },
    {
      "cell_type": "code",
      "source": [
        "class LSTMModel(nn.Module):\n",
        "  def __init__(self, vocab_size, embedding_size = 100, hidden_size=150):\n",
        "    super(LSTMModel, self).__init__()\n",
        "    self.embedding = nn.Embedding(vocab_size, embedding_size)\n",
        "    self.lstm = nn.LSTM(embedding_size, hidden_size, batch_first=True)\n",
        "    self.fc = nn.Linear(hidden_size, vocab_size)\n",
        "\n",
        "  def forward(self, x):\n",
        "    embedded = self.embedding(x)\n",
        "    intermediate_hidden_states, (final_hidden_state, final_cell_state) = self.lstm(embedded)\n",
        "    output = self.fc(final_hidden_state.squeeze(0))\n",
        "    return output"
      ],
      "metadata": {
        "id": "aTwrJt1uf5Ea"
      },
      "execution_count": 118,
      "outputs": []
    },
    {
      "cell_type": "code",
      "source": [
        "x = nn.Embedding(561, 100)\n",
        "y = nn.LSTM(100, 150, batch_first=True)\n",
        "\n",
        "dataset[0]"
      ],
      "metadata": {
        "colab": {
          "base_uri": "https://localhost:8080/"
        },
        "id": "IuXNDcnlf7jv",
        "outputId": "31ebf95b-f300-40a1-e3e5-2d3b86e0e685"
      },
      "execution_count": 119,
      "outputs": [
        {
          "output_type": "execute_result",
          "data": {
            "text/plain": [
              "(tensor([0, 0, 0, 0, 0, 0, 0, 0, 0, 0, 0, 0, 0, 0, 0, 0, 0, 0, 0, 0, 0, 0, 0, 0,\n",
              "         0, 0, 0, 0, 0, 0, 0, 0, 0, 0, 0, 0, 0, 0, 0, 0, 0, 0, 0, 0, 0, 0, 0, 0,\n",
              "         0, 0, 0, 0, 0, 0, 0, 0, 0, 0, 0, 0, 0, 0, 0, 0, 0, 0, 0, 0, 0, 0, 0, 0,\n",
              "         0, 0, 0, 0, 0, 0, 0, 0, 0, 0, 1]),\n",
              " tensor(2))"
            ]
          },
          "metadata": {},
          "execution_count": 119
        }
      ]
    },
    {
      "cell_type": "code",
      "source": [
        "z = x(dataset[0][0].unsqueeze(0))"
      ],
      "metadata": {
        "id": "iwY17Nrf6_-J"
      },
      "execution_count": 120,
      "outputs": []
    },
    {
      "cell_type": "code",
      "source": [
        "c, d = y(z)\n",
        "c, c.shape"
      ],
      "metadata": {
        "colab": {
          "base_uri": "https://localhost:8080/"
        },
        "id": "0eqQEe587EaP",
        "outputId": "8aba8435-e2f0-4a8a-83b8-b9f2367850b5"
      },
      "execution_count": 121,
      "outputs": [
        {
          "output_type": "execute_result",
          "data": {
            "text/plain": [
              "(tensor([[[-0.1126,  0.0785,  0.0514,  ...,  0.0947,  0.0388,  0.0662],\n",
              "          [-0.1849,  0.1196,  0.0802,  ...,  0.1314,  0.0493,  0.0897],\n",
              "          [-0.2250,  0.1392,  0.0937,  ...,  0.1477,  0.0471,  0.0991],\n",
              "          ...,\n",
              "          [-0.2685,  0.1517,  0.1120,  ...,  0.1664,  0.0241,  0.1169],\n",
              "          [-0.2685,  0.1517,  0.1120,  ...,  0.1664,  0.0241,  0.1169],\n",
              "          [-0.2221,  0.0356, -0.0916,  ..., -0.1247, -0.0813, -0.0329]]],\n",
              "        grad_fn=<TransposeBackward0>),\n",
              " torch.Size([1, 83, 150]))"
            ]
          },
          "metadata": {},
          "execution_count": 121
        }
      ]
    },
    {
      "cell_type": "code",
      "source": [
        "d[0].shape, d[1].shape"
      ],
      "metadata": {
        "colab": {
          "base_uri": "https://localhost:8080/"
        },
        "id": "b-7KD7St7Wxb",
        "outputId": "04d92e19-89f9-4be7-a949-8ae9bea4b5f6"
      },
      "execution_count": 122,
      "outputs": [
        {
          "output_type": "execute_result",
          "data": {
            "text/plain": [
              "(torch.Size([1, 1, 150]), torch.Size([1, 1, 150]))"
            ]
          },
          "metadata": {},
          "execution_count": 122
        }
      ]
    },
    {
      "cell_type": "code",
      "source": [
        "model = LSTMModel(len(vocab))"
      ],
      "metadata": {
        "id": "TUWKLKIE7v68"
      },
      "execution_count": 123,
      "outputs": []
    },
    {
      "cell_type": "code",
      "source": [
        "model.to('cuda' if torch.cuda.is_available() else 'cpu')"
      ],
      "metadata": {
        "colab": {
          "base_uri": "https://localhost:8080/"
        },
        "id": "7rbkY-HL9Oqk",
        "outputId": "86eddf36-0547-4fe0-d592-237bd1f4cac2"
      },
      "execution_count": 124,
      "outputs": [
        {
          "output_type": "execute_result",
          "data": {
            "text/plain": [
              "LSTMModel(\n",
              "  (embedding): Embedding(560, 100)\n",
              "  (lstm): LSTM(100, 150, batch_first=True)\n",
              "  (fc): Linear(in_features=150, out_features=560, bias=True)\n",
              ")"
            ]
          },
          "metadata": {},
          "execution_count": 124
        }
      ]
    },
    {
      "cell_type": "code",
      "source": [
        "device = 'cuda' if torch.cuda.is_available() else 'cpu'\n",
        "device"
      ],
      "metadata": {
        "colab": {
          "base_uri": "https://localhost:8080/",
          "height": 36
        },
        "id": "ASVq2JRD9POK",
        "outputId": "3a70e40c-0d7e-43d9-e86c-fa49cd273b98"
      },
      "execution_count": 125,
      "outputs": [
        {
          "output_type": "execute_result",
          "data": {
            "text/plain": [
              "'cpu'"
            ],
            "application/vnd.google.colaboratory.intrinsic+json": {
              "type": "string"
            }
          },
          "metadata": {},
          "execution_count": 125
        }
      ]
    },
    {
      "cell_type": "code",
      "source": [
        "epochs = 50\n",
        "lr = 0.001\n",
        "\n",
        "criterion = nn.CrossEntropyLoss()\n",
        "optimizer = torch.optim.Adam(model.parameters(), lr=lr)"
      ],
      "metadata": {
        "id": "Gr1DUrir9Ws7"
      },
      "execution_count": 126,
      "outputs": []
    },
    {
      "cell_type": "code",
      "source": [
        "for epoch in range(epochs):\n",
        "  for X, y in dataloader:\n",
        "    X = X.to(device)\n",
        "    y = y.to(device)\n",
        "    y_pred = model(X)\n",
        "    loss = criterion(y_pred, y)\n",
        "    optimizer.zero_grad()\n",
        "    loss.backward()\n",
        "    optimizer.step()\n",
        "  print(f'Epoch: {epoch+1}, Loss: {loss.item()}')"
      ],
      "metadata": {
        "colab": {
          "base_uri": "https://localhost:8080/"
        },
        "id": "Eo_SiDxC-Cd8",
        "outputId": "7e7b855a-5822-4280-8fd9-0f32805c0d03"
      },
      "execution_count": 127,
      "outputs": [
        {
          "output_type": "stream",
          "name": "stdout",
          "text": [
            "Epoch: 1, Loss: 4.889097690582275\n",
            "Epoch: 2, Loss: 5.202166557312012\n",
            "Epoch: 3, Loss: 4.2604875564575195\n",
            "Epoch: 4, Loss: 4.84549617767334\n",
            "Epoch: 5, Loss: 3.2417101860046387\n",
            "Epoch: 6, Loss: 2.627373456954956\n",
            "Epoch: 7, Loss: 2.5414257049560547\n",
            "Epoch: 8, Loss: 2.035357713699341\n",
            "Epoch: 9, Loss: 1.9196287393569946\n",
            "Epoch: 10, Loss: 1.264449119567871\n",
            "Epoch: 11, Loss: 1.50127375125885\n",
            "Epoch: 12, Loss: 1.2099790573120117\n",
            "Epoch: 13, Loss: 1.0869932174682617\n",
            "Epoch: 14, Loss: 0.8774998188018799\n",
            "Epoch: 15, Loss: 0.6894555687904358\n",
            "Epoch: 16, Loss: 0.6481794714927673\n",
            "Epoch: 17, Loss: 0.41408729553222656\n",
            "Epoch: 18, Loss: 0.3288322687149048\n",
            "Epoch: 19, Loss: 0.28509464859962463\n",
            "Epoch: 20, Loss: 0.4684883952140808\n",
            "Epoch: 21, Loss: 0.34713301062583923\n",
            "Epoch: 22, Loss: 0.2134944200515747\n",
            "Epoch: 23, Loss: 0.22371625900268555\n",
            "Epoch: 24, Loss: 0.3783302307128906\n",
            "Epoch: 25, Loss: 0.311790406703949\n",
            "Epoch: 26, Loss: 0.28227221965789795\n",
            "Epoch: 27, Loss: 0.2924281060695648\n",
            "Epoch: 28, Loss: 0.10746781527996063\n",
            "Epoch: 29, Loss: 0.1552271842956543\n",
            "Epoch: 30, Loss: 0.15016159415245056\n",
            "Epoch: 31, Loss: 0.15985500812530518\n",
            "Epoch: 32, Loss: 0.06813332438468933\n",
            "Epoch: 33, Loss: 0.14010801911354065\n",
            "Epoch: 34, Loss: 0.16971035301685333\n",
            "Epoch: 35, Loss: 0.12423939257860184\n",
            "Epoch: 36, Loss: 0.23686423897743225\n",
            "Epoch: 37, Loss: 0.0418495237827301\n",
            "Epoch: 38, Loss: 0.19131046533584595\n",
            "Epoch: 39, Loss: 0.20104849338531494\n",
            "Epoch: 40, Loss: 0.041756320744752884\n",
            "Epoch: 41, Loss: 0.10939202457666397\n",
            "Epoch: 42, Loss: 0.14115767180919647\n",
            "Epoch: 43, Loss: 0.4032658040523529\n",
            "Epoch: 44, Loss: 0.029309356585144997\n",
            "Epoch: 45, Loss: 0.2966269552707672\n",
            "Epoch: 46, Loss: 0.031101442873477936\n",
            "Epoch: 47, Loss: 0.1081627830862999\n",
            "Epoch: 48, Loss: 0.18575158715248108\n",
            "Epoch: 49, Loss: 0.1512732058763504\n",
            "Epoch: 50, Loss: 0.18564175069332123\n"
          ]
        }
      ]
    },
    {
      "cell_type": "code",
      "source": [
        "def prediction(model, vocab, text, num_tokens=50):\n",
        "  # text to indices\n",
        "  for _ in range(num_tokens):\n",
        "    token_text = word_tokenize(text.lower())\n",
        "    numerical_text = text_to_index(token_text, vocab)\n",
        "    # padding\n",
        "    padded_text = torch.tensor([0] * (max(lenlist) - len(numerical_text)) + numerical_text, dtype=torch.long).unsqueeze(0)\n",
        "    # to tensor\n",
        "    # prediction\n",
        "    y_pred = model(padded_text)\n",
        "    # predicted word index\n",
        "    val, index = torch.max(y_pred, dim=1)\n",
        "    # merge with text\n",
        "    text = text + \" \" + list(vocab.keys())[index]\n",
        "  return text"
      ],
      "metadata": {
        "id": "9BQyQKT8-JV1"
      },
      "execution_count": 128,
      "outputs": []
    },
    {
      "cell_type": "code",
      "source": [
        "text = \"You are eligible to apply for Ph.D. programme with UGC-JRF\"\n",
        "prediction(model, vocab, text)"
      ],
      "metadata": {
        "colab": {
          "base_uri": "https://localhost:8080/",
          "height": 53
        },
        "id": "nRR7TXv7AB-p",
        "outputId": "3a0cd4d4-73d8-4cde-b12c-b7dfc46269f7"
      },
      "execution_count": 131,
      "outputs": [
        {
          "output_type": "execute_result",
          "data": {
            "text/plain": [
              "'You are eligible to apply for Ph.D. programme with UGC-JRF qualification , only if your ugc-jrf qualified year is valid and tenable for the current period of admission . & application portal for the respective residence type & financial support that you have selected under “ apply to department ” page and the “ basic profile ” is filled correctly'"
            ],
            "application/vnd.google.colaboratory.intrinsic+json": {
              "type": "string"
            }
          },
          "metadata": {},
          "execution_count": 131
        }
      ]
    },
    {
      "cell_type": "code",
      "source": [],
      "metadata": {
        "id": "xKPxa3P9AG2V"
      },
      "execution_count": 129,
      "outputs": []
    }
  ]
}