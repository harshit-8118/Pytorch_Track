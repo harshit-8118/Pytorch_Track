{
  "cells": [
    {
      "cell_type": "code",
      "execution_count": 1,
      "metadata": {
        "id": "Bq7EJURTSJJM"
      },
      "outputs": [],
      "source": [
        "from sklearn.datasets import make_classification\n",
        "import torch"
      ]
    },
    {
      "cell_type": "code",
      "execution_count": 13,
      "metadata": {
        "colab": {
          "base_uri": "https://localhost:8080/"
        },
        "id": "LpE0xrNmthst",
        "outputId": "807ddcca-1c6f-474d-f25d-54604a5d7d3d"
      },
      "outputs": [
        {
          "data": {
            "text/plain": [
              "(array([[ 1.06833894, -0.97007347],\n",
              "        [-1.14021544, -0.83879234],\n",
              "        [-2.8953973 ,  1.97686236],\n",
              "        [-0.72063436, -0.96059253],\n",
              "        [-1.96287438, -0.99225135],\n",
              "        [-0.9382051 , -0.54304815],\n",
              "        [ 1.72725924, -1.18582677],\n",
              "        [ 1.77736657,  1.51157598],\n",
              "        [ 1.89969252,  0.83444483],\n",
              "        [-0.58723065, -1.97171753]]),\n",
              " array([1, 0, 0, 0, 0, 1, 1, 1, 1, 0]))"
            ]
          },
          "execution_count": 13,
          "metadata": {},
          "output_type": "execute_result"
        }
      ],
      "source": [
        "X, y = make_classification(n_samples=10, n_features=2, n_informative=2, n_redundant=0, random_state=42, n_classes=2)\n",
        "X, y"
      ]
    },
    {
      "cell_type": "code",
      "execution_count": null,
      "metadata": {
        "id": "GtX0eGrKthkh"
      },
      "outputs": [],
      "source": [
        "import matplotlib.pyplot as plt\n",
        "\n",
        "plt.scatter(X[:, 0], X[:, 1], c=y)\n",
        "plt.show()"
      ]
    },
    {
      "cell_type": "code",
      "execution_count": 15,
      "metadata": {
        "id": "TXBxzCC3thcZ"
      },
      "outputs": [],
      "source": [
        "X = torch.from_numpy(X).type(torch.float32)\n",
        "y = torch.from_numpy(y).type(torch.float32)"
      ]
    },
    {
      "cell_type": "code",
      "execution_count": 17,
      "metadata": {
        "colab": {
          "base_uri": "https://localhost:8080/"
        },
        "id": "rIJ3thDFthS3",
        "outputId": "d7afdf98-7d15-4ced-c3fb-62bccb01557f"
      },
      "outputs": [
        {
          "data": {
            "text/plain": [
              "(tensor([[ 1.0683, -0.9701],\n",
              "         [-1.1402, -0.8388],\n",
              "         [-2.8954,  1.9769],\n",
              "         [-0.7206, -0.9606],\n",
              "         [-1.9629, -0.9923],\n",
              "         [-0.9382, -0.5430],\n",
              "         [ 1.7273, -1.1858],\n",
              "         [ 1.7774,  1.5116],\n",
              "         [ 1.8997,  0.8344],\n",
              "         [-0.5872, -1.9717]]),\n",
              " tensor([1., 0., 0., 0., 0., 1., 1., 1., 1., 0.]))"
            ]
          },
          "execution_count": 17,
          "metadata": {},
          "output_type": "execute_result"
        }
      ],
      "source": [
        "X, y"
      ]
    },
    {
      "cell_type": "code",
      "execution_count": 18,
      "metadata": {
        "id": "y5zx8nWn1o2x"
      },
      "outputs": [],
      "source": [
        "from torch.utils.data import Dataset, DataLoader"
      ]
    },
    {
      "cell_type": "code",
      "execution_count": 37,
      "metadata": {
        "id": "AVIgXL9w11k4"
      },
      "outputs": [],
      "source": [
        "class CustomDatasetClass(Dataset):\n",
        "  def __init__(self, features, labels):\n",
        "    self.features = features\n",
        "    self.labels = labels\n",
        "\n",
        "  def __len__(self):\n",
        "    return self.features.shape[0]\n",
        "\n",
        "  def __getitem__(self, index):\n",
        "    # transformation to data can be applied here,\n",
        "    # image aug, text preprocessing etc\n",
        "    return self.features[index], self.labels[index]"
      ]
    },
    {
      "cell_type": "code",
      "execution_count": 38,
      "metadata": {
        "id": "flws92Um2ZWC"
      },
      "outputs": [],
      "source": [
        "dataset = CustomDatasetClass(X, y)"
      ]
    },
    {
      "cell_type": "code",
      "execution_count": 39,
      "metadata": {
        "colab": {
          "base_uri": "https://localhost:8080/"
        },
        "id": "iqzPXNHB2ZTN",
        "outputId": "5475419e-388a-4ecd-ac15-09233ba8252d"
      },
      "outputs": [
        {
          "data": {
            "text/plain": [
              "10"
            ]
          },
          "execution_count": 39,
          "metadata": {},
          "output_type": "execute_result"
        }
      ],
      "source": [
        "len(dataset)"
      ]
    },
    {
      "cell_type": "code",
      "execution_count": 40,
      "metadata": {
        "colab": {
          "base_uri": "https://localhost:8080/"
        },
        "id": "GdXkkk962ZQH",
        "outputId": "24b39f75-5992-4863-b48b-a8cffd13ee8c"
      },
      "outputs": [
        {
          "data": {
            "text/plain": [
              "((tensor([-0.9382, -0.5430]), tensor(1.)),\n",
              " (tensor([-0.9382, -0.5430]), tensor(1.)))"
            ]
          },
          "execution_count": 40,
          "metadata": {},
          "output_type": "execute_result"
        }
      ],
      "source": [
        "# both are same\n",
        "dataset.__getitem__(5), dataset[5]"
      ]
    },
    {
      "cell_type": "code",
      "execution_count": 41,
      "metadata": {
        "id": "mEivAXd92ZNB"
      },
      "outputs": [],
      "source": [
        "dataloader = DataLoader(dataset, batch_size=2, shuffle=True)"
      ]
    },
    {
      "cell_type": "markdown",
      "metadata": {
        "id": "HhMKlXH-DHBc"
      },
      "source": [
        "In pytorch the sampler in the dataloader determines the strategy for selecting samples from the dataset during data loading. It controls how indices of the datset are drawn for each batch.\n",
        "\n",
        "Types:\n",
        "pytorch provides several predefined samplers, and you can create custom ones:\n",
        "  1. Sequential Sampler\n",
        "  - samples elements sequentially, in the order they appear in the dataset.\n",
        "  - default when shuffle=False\n",
        "  2. Random Sampler\n",
        "  - samples elements randomly without replacement.\n",
        "  - Default when shuffle=True"
      ]
    },
    {
      "cell_type": "code",
      "execution_count": 42,
      "metadata": {
        "colab": {
          "base_uri": "https://localhost:8080/"
        },
        "id": "3Nshrc-N2ZJ8",
        "outputId": "b29b3446-5458-470b-fcdc-6403b0c58492"
      },
      "outputs": [
        {
          "name": "stdout",
          "output_type": "stream",
          "text": [
            "tensor([[-2.8954,  1.9769],\n",
            "        [-0.9382, -0.5430]])\n",
            "tensor([0., 1.])\n",
            "------------------------------\n",
            "tensor([[-1.9629, -0.9923],\n",
            "        [-1.1402, -0.8388]])\n",
            "tensor([0., 0.])\n",
            "------------------------------\n",
            "tensor([[-0.7206, -0.9606],\n",
            "        [ 1.7273, -1.1858]])\n",
            "tensor([0., 1.])\n",
            "------------------------------\n",
            "tensor([[ 1.7774,  1.5116],\n",
            "        [ 1.0683, -0.9701]])\n",
            "tensor([1., 1.])\n",
            "------------------------------\n",
            "tensor([[ 1.8997,  0.8344],\n",
            "        [-0.5872, -1.9717]])\n",
            "tensor([1., 0.])\n",
            "------------------------------\n"
          ]
        }
      ],
      "source": [
        "for batch_features, batch_labels in dataloader:\n",
        "  print(batch_features)\n",
        "  print(batch_labels)\n",
        "  print(\"-\"*30)"
      ]
    },
    {
      "cell_type": "markdown",
      "metadata": {
        "id": "NQVpVeP5Fl3U"
      },
      "source": [
        "### workers brings parallelism in forming batches\n",
        "\n"
      ]
    },
    {
      "cell_type": "markdown",
      "metadata": {
        "id": "H7XJVng4ELtl"
      },
      "source": [
        "### collate_fn :\n",
        "The collate_fn in pytorch's DataLoader is a function that specifies how to combine a list of samples from a dataset into a single batch. By default, the DataLoader uses a simple batch collation mechanism, but collate_fn allow you to customize how the data should be processed and batched.\n",
        "\n",
        "use case:\n",
        "Keeping text length same in sequential models via padding.\n"
      ]
    },
    {
      "cell_type": "code",
      "execution_count": null,
      "metadata": {},
      "outputs": [],
      "source": []
    },
    {
      "cell_type": "code",
      "execution_count": null,
      "metadata": {},
      "outputs": [],
      "source": []
    },
    {
      "cell_type": "code",
      "execution_count": 34,
      "metadata": {
        "id": "Mp4sHYGn2ZAc"
      },
      "outputs": [],
      "source": []
    },
    {
      "cell_type": "code",
      "execution_count": 34,
      "metadata": {
        "id": "0YKp2r0w2Y9Q"
      },
      "outputs": [],
      "source": []
    },
    {
      "cell_type": "code",
      "execution_count": 34,
      "metadata": {
        "id": "Muih8yqu2Y6M"
      },
      "outputs": [],
      "source": []
    },
    {
      "cell_type": "code",
      "execution_count": 34,
      "metadata": {
        "id": "8C-XPhSz2Y2h"
      },
      "outputs": [],
      "source": []
    }
  ],
  "metadata": {
    "colab": {
      "provenance": []
    },
    "kernelspec": {
      "display_name": "Python 3",
      "name": "python3"
    },
    "language_info": {
      "name": "python"
    }
  },
  "nbformat": 4,
  "nbformat_minor": 0
}
