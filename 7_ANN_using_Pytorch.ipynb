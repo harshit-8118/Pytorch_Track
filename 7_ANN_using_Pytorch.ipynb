{
  "nbformat": 4,
  "nbformat_minor": 0,
  "metadata": {
    "colab": {
      "provenance": [],
      "gpuType": "T4"
    },
    "kernelspec": {
      "name": "python3",
      "display_name": "Python 3"
    },
    "language_info": {
      "name": "python"
    },
    "accelerator": "GPU"
  },
  "cells": [
    {
      "cell_type": "code",
      "execution_count": 21,
      "metadata": {
        "id": "rGFrqoa0IIzH"
      },
      "outputs": [],
      "source": [
        "import torch\n",
        "import torch.nn as nn\n",
        "\n",
        "import tensorflow as tf\n",
        "from tensorflow.keras.datasets import mnist"
      ]
    },
    {
      "cell_type": "markdown",
      "source": [
        "### Dataset and Preprocessing"
      ],
      "metadata": {
        "id": "p_gcSZV-f8fP"
      }
    },
    {
      "cell_type": "code",
      "source": [
        "(X, y), (Xtest, ytest) = mnist.load_data()"
      ],
      "metadata": {
        "id": "T0sOJSHrgBDD"
      },
      "execution_count": 22,
      "outputs": []
    },
    {
      "cell_type": "code",
      "source": [
        "X.shape, y.shape, Xtest.shape, ytest.shape"
      ],
      "metadata": {
        "colab": {
          "base_uri": "https://localhost:8080/"
        },
        "id": "5IVYR6_WgA_l",
        "outputId": "046d4025-2f6b-4a78-ea40-dc66138d5808"
      },
      "execution_count": 23,
      "outputs": [
        {
          "output_type": "execute_result",
          "data": {
            "text/plain": [
              "((60000, 28, 28), (60000,), (10000, 28, 28), (10000,))"
            ]
          },
          "metadata": {},
          "execution_count": 23
        }
      ]
    },
    {
      "cell_type": "code",
      "source": [
        "device = 'cuda' if torch.cuda.is_available() else 'cpu'\n",
        "device"
      ],
      "metadata": {
        "colab": {
          "base_uri": "https://localhost:8080/",
          "height": 35
        },
        "id": "TW0MlUue2kPT",
        "outputId": "51366400-3375-4c49-b81e-a00c3c05e8ac"
      },
      "execution_count": 24,
      "outputs": [
        {
          "output_type": "execute_result",
          "data": {
            "text/plain": [
              "'cuda'"
            ],
            "application/vnd.google.colaboratory.intrinsic+json": {
              "type": "string"
            }
          },
          "metadata": {},
          "execution_count": 24
        }
      ]
    },
    {
      "cell_type": "code",
      "source": [
        "from sklearn.preprocessing import StandardScaler\n",
        "\n",
        "scaler = StandardScaler()\n",
        "X = scaler.fit_transform(X.reshape(-1, 28*28))\n",
        "Xtest = scaler.transform(Xtest.reshape(-1, 28*28))"
      ],
      "metadata": {
        "id": "mheELP0KgA8N"
      },
      "execution_count": 25,
      "outputs": []
    },
    {
      "cell_type": "code",
      "source": [
        "X.shape, Xtest.shape"
      ],
      "metadata": {
        "colab": {
          "base_uri": "https://localhost:8080/"
        },
        "id": "yAwq1HBegA4k",
        "outputId": "8c0dcaf2-3558-42a7-cb6f-d1d012aef139"
      },
      "execution_count": 26,
      "outputs": [
        {
          "output_type": "execute_result",
          "data": {
            "text/plain": [
              "((60000, 784), (10000, 784))"
            ]
          },
          "metadata": {},
          "execution_count": 26
        }
      ]
    },
    {
      "cell_type": "code",
      "source": [
        "from torch.utils.data import Dataset, DataLoader\n",
        "torch.manual_seed(42)"
      ],
      "metadata": {
        "colab": {
          "base_uri": "https://localhost:8080/"
        },
        "id": "jQSYW-cdkpBq",
        "outputId": "a33c9cd3-3926-4d28-950c-7ca2a27c1d60"
      },
      "execution_count": 27,
      "outputs": [
        {
          "output_type": "execute_result",
          "data": {
            "text/plain": [
              "<torch._C.Generator at 0x78a415599590>"
            ]
          },
          "metadata": {},
          "execution_count": 27
        }
      ]
    },
    {
      "cell_type": "code",
      "source": [
        "class customDataset(Dataset):\n",
        "  def __init__(self, X, Y):\n",
        "    self.X = torch.tensor(X, dtype=torch.float32)\n",
        "    self.Y = torch.tensor(Y, dtype=torch.long)\n",
        "\n",
        "  def __len__(self):\n",
        "    return len(self.X)\n",
        "\n",
        "  def __getitem__(self, i):\n",
        "    return self.X[i], self.Y[i]"
      ],
      "metadata": {
        "id": "2eG7ufw9i7wd"
      },
      "execution_count": 38,
      "outputs": []
    },
    {
      "cell_type": "code",
      "source": [
        "train_dataset = customDataset(X, y)\n",
        "test_dataset = customDataset(Xtest, ytest)\n",
        "\n",
        "train_loader = DataLoader(train_dataset, batch_size=128, shuffle=True, pin_memory=True)\n",
        "test_loader = DataLoader(test_dataset, batch_size=128, shuffle=False, pin_memory=True)"
      ],
      "metadata": {
        "id": "z3WNaG8VjJ7m"
      },
      "execution_count": 47,
      "outputs": []
    },
    {
      "cell_type": "code",
      "source": [
        "len(train_dataset), train_dataset[0][0].shape"
      ],
      "metadata": {
        "colab": {
          "base_uri": "https://localhost:8080/"
        },
        "collapsed": true,
        "id": "LLRk2IQcjsei",
        "outputId": "a2fd6ec9-9a2f-4eb3-8189-10de8595d444"
      },
      "execution_count": 59,
      "outputs": [
        {
          "output_type": "execute_result",
          "data": {
            "text/plain": [
              "(60000, torch.Size([784]))"
            ]
          },
          "metadata": {},
          "execution_count": 59
        }
      ]
    },
    {
      "cell_type": "code",
      "source": [
        "learning_rate = 0.01\n",
        "epoch = 100"
      ],
      "metadata": {
        "id": "cx9lTWQ6kx_z"
      },
      "execution_count": 49,
      "outputs": []
    },
    {
      "cell_type": "markdown",
      "source": [
        "## Move the model to GPU"
      ],
      "metadata": {
        "id": "LLmtJ9Sp2821"
      }
    },
    {
      "cell_type": "code",
      "source": [
        "class NN(nn.Module):\n",
        "  def __init__(self, input_dim):\n",
        "    super().__init__()\n",
        "    self.network = nn.Sequential(\n",
        "        nn.Linear(input_dim, 128),\n",
        "        nn.ReLU(),\n",
        "        nn.Linear(128, 64),\n",
        "        nn.ReLU(),\n",
        "        nn.Linear(64, 10)\n",
        "    )\n",
        "\n",
        "  def forward(self, X):\n",
        "    return self.network(X)"
      ],
      "metadata": {
        "id": "3sockKqlfadf"
      },
      "execution_count": 50,
      "outputs": []
    },
    {
      "cell_type": "code",
      "source": [
        "model = NN(X.shape[1])\n",
        "model.to(device)"
      ],
      "metadata": {
        "colab": {
          "base_uri": "https://localhost:8080/"
        },
        "id": "-kxNo0NSmb3c",
        "outputId": "3879e397-14cd-47ad-dc17-966770176851"
      },
      "execution_count": 51,
      "outputs": [
        {
          "output_type": "execute_result",
          "data": {
            "text/plain": [
              "NN(\n",
              "  (network): Sequential(\n",
              "    (0): Linear(in_features=784, out_features=128, bias=True)\n",
              "    (1): ReLU()\n",
              "    (2): Linear(in_features=128, out_features=64, bias=True)\n",
              "    (3): ReLU()\n",
              "    (4): Linear(in_features=64, out_features=10, bias=True)\n",
              "  )\n",
              ")"
            ]
          },
          "metadata": {},
          "execution_count": 51
        }
      ]
    },
    {
      "cell_type": "code",
      "source": [
        "!pip install torchinfo"
      ],
      "metadata": {
        "colab": {
          "base_uri": "https://localhost:8080/"
        },
        "id": "nKbf2t3YmMNh",
        "outputId": "af7023a9-2e01-461b-d2a4-7fd75ccd9395"
      },
      "execution_count": 52,
      "outputs": [
        {
          "output_type": "stream",
          "name": "stdout",
          "text": [
            "Requirement already satisfied: torchinfo in /usr/local/lib/python3.11/dist-packages (1.8.0)\n"
          ]
        }
      ]
    },
    {
      "cell_type": "code",
      "source": [
        "from torchinfo import summary\n",
        "\n",
        "summary(model, input_size=(32, 784))"
      ],
      "metadata": {
        "colab": {
          "base_uri": "https://localhost:8080/"
        },
        "id": "e2BIPLVjmNlU",
        "outputId": "fe04298d-c8c9-40bf-8c64-a800d0948f01"
      },
      "execution_count": 53,
      "outputs": [
        {
          "output_type": "execute_result",
          "data": {
            "text/plain": [
              "==========================================================================================\n",
              "Layer (type:depth-idx)                   Output Shape              Param #\n",
              "==========================================================================================\n",
              "NN                                       [32, 10]                  --\n",
              "├─Sequential: 1-1                        [32, 10]                  --\n",
              "│    └─Linear: 2-1                       [32, 128]                 100,480\n",
              "│    └─ReLU: 2-2                         [32, 128]                 --\n",
              "│    └─Linear: 2-3                       [32, 64]                  8,256\n",
              "│    └─ReLU: 2-4                         [32, 64]                  --\n",
              "│    └─Linear: 2-5                       [32, 10]                  650\n",
              "==========================================================================================\n",
              "Total params: 109,386\n",
              "Trainable params: 109,386\n",
              "Non-trainable params: 0\n",
              "Total mult-adds (Units.MEGABYTES): 3.50\n",
              "==========================================================================================\n",
              "Input size (MB): 0.10\n",
              "Forward/backward pass size (MB): 0.05\n",
              "Params size (MB): 0.44\n",
              "Estimated Total Size (MB): 0.59\n",
              "=========================================================================================="
            ]
          },
          "metadata": {},
          "execution_count": 53
        }
      ]
    },
    {
      "cell_type": "code",
      "source": [
        "criterion = nn.CrossEntropyLoss()\n",
        "optimizer = torch.optim.SGD(model.parameters(), lr=learning_rate)\n",
        "\n",
        "\n",
        "for i in range(epoch):\n",
        "  total_epoch_loss = 0\n",
        "  for batch_x, batch_y in train_loader:\n",
        "    batch_x = batch_x.to(device)\n",
        "    batch_y = batch_y.to(device)\n",
        "    y_pred = model(batch_x)\n",
        "    loss = criterion(y_pred, batch_y)\n",
        "\n",
        "    optimizer.zero_grad()\n",
        "    loss.backward()\n",
        "    optimizer.step()\n",
        "    total_epoch_loss += loss.item()\n",
        "\n",
        "  avg_loss = total_epoch_loss / len(train_loader)\n",
        "  print(f'Epoch: {i + 1} | loss : {avg_loss}')"
      ],
      "metadata": {
        "colab": {
          "base_uri": "https://localhost:8080/"
        },
        "id": "GdG_cc5fkm9e",
        "outputId": "1884965c-5b4f-40c0-83e1-cdac394eded7"
      },
      "execution_count": 54,
      "outputs": [
        {
          "output_type": "stream",
          "name": "stdout",
          "text": [
            "Epoch: 1 | loss : 1.703406460757957\n",
            "Epoch: 2 | loss : 0.5820148932272946\n",
            "Epoch: 3 | loss : 0.35377516008135096\n",
            "Epoch: 4 | loss : 0.2822814269551336\n",
            "Epoch: 5 | loss : 0.2440109831183704\n",
            "Epoch: 6 | loss : 0.21835045047851007\n",
            "Epoch: 7 | loss : 0.1991207319885683\n",
            "Epoch: 8 | loss : 0.18398203846138678\n",
            "Epoch: 9 | loss : 0.1712875057861749\n",
            "Epoch: 10 | loss : 0.16054166160793956\n",
            "Epoch: 11 | loss : 0.1511322701854238\n",
            "Epoch: 12 | loss : 0.1427418673391154\n",
            "Epoch: 13 | loss : 0.13526298522726812\n",
            "Epoch: 14 | loss : 0.128412158671282\n",
            "Epoch: 15 | loss : 0.1222240128067892\n",
            "Epoch: 16 | loss : 0.11648146117896413\n",
            "Epoch: 17 | loss : 0.1113391098167215\n",
            "Epoch: 18 | loss : 0.10643171096470819\n",
            "Epoch: 19 | loss : 0.10197826473713556\n",
            "Epoch: 20 | loss : 0.09781946859824886\n",
            "Epoch: 21 | loss : 0.0937740312122714\n",
            "Epoch: 22 | loss : 0.09015564523589636\n",
            "Epoch: 23 | loss : 0.08664511514505915\n",
            "Epoch: 24 | loss : 0.08346144807364132\n",
            "Epoch: 25 | loss : 0.08035134774710197\n",
            "Epoch: 26 | loss : 0.07738410347480891\n",
            "Epoch: 27 | loss : 0.07463238695497389\n",
            "Epoch: 28 | loss : 0.07191648028854496\n",
            "Epoch: 29 | loss : 0.06939304606127206\n",
            "Epoch: 30 | loss : 0.06702270535136591\n",
            "Epoch: 31 | loss : 0.06475208393101499\n",
            "Epoch: 32 | loss : 0.06261345249678153\n",
            "Epoch: 33 | loss : 0.060506832662787134\n",
            "Epoch: 34 | loss : 0.05855094529052914\n",
            "Epoch: 35 | loss : 0.05669300256372451\n",
            "Epoch: 36 | loss : 0.054866587326153\n",
            "Epoch: 37 | loss : 0.0531400521812059\n",
            "Epoch: 38 | loss : 0.051508467739769644\n",
            "Epoch: 39 | loss : 0.049933943277927856\n",
            "Epoch: 40 | loss : 0.04841245628043469\n",
            "Epoch: 41 | loss : 0.04692400599530003\n",
            "Epoch: 42 | loss : 0.045545801905585506\n",
            "Epoch: 43 | loss : 0.04417921356690019\n",
            "Epoch: 44 | loss : 0.04284708823230284\n",
            "Epoch: 45 | loss : 0.04161475576372988\n",
            "Epoch: 46 | loss : 0.0404063785301724\n",
            "Epoch: 47 | loss : 0.039229400608855394\n",
            "Epoch: 48 | loss : 0.03812502124515583\n",
            "Epoch: 49 | loss : 0.03695900410489201\n",
            "Epoch: 50 | loss : 0.03594332268195493\n",
            "Epoch: 51 | loss : 0.034903322814155556\n",
            "Epoch: 52 | loss : 0.03396303797744389\n",
            "Epoch: 53 | loss : 0.03301366842312139\n",
            "Epoch: 54 | loss : 0.03201840368053838\n",
            "Epoch: 55 | loss : 0.031142911354480968\n",
            "Epoch: 56 | loss : 0.03035620751200931\n",
            "Epoch: 57 | loss : 0.029475856360905904\n",
            "Epoch: 58 | loss : 0.02867038380195782\n",
            "Epoch: 59 | loss : 0.02788683181620642\n",
            "Epoch: 60 | loss : 0.02712519266116403\n",
            "Epoch: 61 | loss : 0.02635394513054983\n",
            "Epoch: 62 | loss : 0.02571494924698843\n",
            "Epoch: 63 | loss : 0.02498847180739172\n",
            "Epoch: 64 | loss : 0.02433715039131436\n",
            "Epoch: 65 | loss : 0.023727985462352538\n",
            "Epoch: 66 | loss : 0.023105675656932282\n",
            "Epoch: 67 | loss : 0.02247542542403441\n",
            "Epoch: 68 | loss : 0.021863091270377766\n",
            "Epoch: 69 | loss : 0.021311303436843506\n",
            "Epoch: 70 | loss : 0.020786754463288957\n",
            "Epoch: 71 | loss : 0.020217083395520318\n",
            "Epoch: 72 | loss : 0.01969456091485441\n",
            "Epoch: 73 | loss : 0.019213118240423897\n",
            "Epoch: 74 | loss : 0.018746570665151008\n",
            "Epoch: 75 | loss : 0.018221578836294095\n",
            "Epoch: 76 | loss : 0.017809869754296947\n",
            "Epoch: 77 | loss : 0.017331947825714025\n",
            "Epoch: 78 | loss : 0.016914151303632968\n",
            "Epoch: 79 | loss : 0.016513480223528644\n",
            "Epoch: 80 | loss : 0.016096754475180972\n",
            "Epoch: 81 | loss : 0.015721889398892772\n",
            "Epoch: 82 | loss : 0.015322243661256328\n",
            "Epoch: 83 | loss : 0.014986607496306967\n",
            "Epoch: 84 | loss : 0.014607313010138649\n",
            "Epoch: 85 | loss : 0.014263097717087152\n",
            "Epoch: 86 | loss : 0.013938673506818537\n",
            "Epoch: 87 | loss : 0.013594370117403075\n",
            "Epoch: 88 | loss : 0.013281760487590295\n",
            "Epoch: 89 | loss : 0.012977220816537738\n",
            "Epoch: 90 | loss : 0.01269642377584013\n",
            "Epoch: 91 | loss : 0.012369237426640605\n",
            "Epoch: 92 | loss : 0.012098931919670165\n",
            "Epoch: 93 | loss : 0.011818313100156802\n",
            "Epoch: 94 | loss : 0.011584789452722856\n",
            "Epoch: 95 | loss : 0.011331300742413872\n",
            "Epoch: 96 | loss : 0.011046542855563448\n",
            "Epoch: 97 | loss : 0.010818066586529824\n",
            "Epoch: 98 | loss : 0.010572788736987502\n",
            "Epoch: 99 | loss : 0.010353394610775528\n",
            "Epoch: 100 | loss : 0.010114790102752892\n"
          ]
        }
      ]
    },
    {
      "cell_type": "code",
      "source": [
        "model.eval()"
      ],
      "metadata": {
        "colab": {
          "base_uri": "https://localhost:8080/"
        },
        "id": "kL6JGMlqhyQ3",
        "outputId": "8cb70e0e-c3b3-44ed-f9c3-5e4e6754a2d6"
      },
      "execution_count": 55,
      "outputs": [
        {
          "output_type": "execute_result",
          "data": {
            "text/plain": [
              "NN(\n",
              "  (network): Sequential(\n",
              "    (0): Linear(in_features=784, out_features=128, bias=True)\n",
              "    (1): ReLU()\n",
              "    (2): Linear(in_features=128, out_features=64, bias=True)\n",
              "    (3): ReLU()\n",
              "    (4): Linear(in_features=64, out_features=10, bias=True)\n",
              "  )\n",
              ")"
            ]
          },
          "metadata": {},
          "execution_count": 55
        }
      ]
    },
    {
      "cell_type": "code",
      "source": [
        "total = 0\n",
        "correct = 0\n",
        "\n",
        "with torch.no_grad():\n",
        "  for batch_x, batch_y in test_loader:\n",
        "    batch_x = batch_x.to(device)\n",
        "    batch_y = batch_y.to(device)\n",
        "    y_pred = model(batch_x)\n",
        "    _, predicted = torch.max(y_pred.data, 1)\n",
        "    total += batch_y.shape[0]\n",
        "    correct += (predicted == batch_y).sum().item()\n",
        "\n",
        "print(f'Accuracy: {100 * correct / total}')"
      ],
      "metadata": {
        "colab": {
          "base_uri": "https://localhost:8080/"
        },
        "id": "i0M3WVPGiF6t",
        "outputId": "20da7749-ac4f-440a-914b-d05904d4b20f"
      },
      "execution_count": 56,
      "outputs": [
        {
          "output_type": "stream",
          "name": "stdout",
          "text": [
            "Accuracy: 97.48\n"
          ]
        }
      ]
    },
    {
      "cell_type": "code",
      "source": [],
      "metadata": {
        "id": "hK2-HTU4iXUW"
      },
      "execution_count": 31,
      "outputs": []
    },
    {
      "cell_type": "code",
      "source": [],
      "metadata": {
        "id": "Uf-Xjxgbrg6j"
      },
      "execution_count": null,
      "outputs": []
    }
  ]
}