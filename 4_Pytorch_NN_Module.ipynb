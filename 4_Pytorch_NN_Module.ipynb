{
  "nbformat": 4,
  "nbformat_minor": 0,
  "metadata": {
    "colab": {
      "provenance": [],
      "gpuType": "T4"
    },
    "kernelspec": {
      "name": "python3",
      "display_name": "Python 3"
    },
    "language_info": {
      "name": "python"
    }
  },
  "cells": [
    {
      "cell_type": "code",
      "execution_count": 38,
      "metadata": {
        "id": "31yb7CDgZ6cs"
      },
      "outputs": [],
      "source": [
        "import torch\n",
        "import torch.nn as nn\n",
        "import numpy as np"
      ]
    },
    {
      "cell_type": "markdown",
      "source": [
        "## BASIC SINGLE NEURON MODEL"
      ],
      "metadata": {
        "id": "U4cpwVat9mjx"
      }
    },
    {
      "cell_type": "code",
      "source": [
        "class Model(nn.Module):\n",
        "\n",
        "  def __init__(self, num_features):\n",
        "    super().__init__()\n",
        "    self.linear = nn.Linear(num_features, 1)\n",
        "    self.sigmoid = nn.Sigmoid()\n",
        "\n",
        "  def forward(self, x):\n",
        "    z = self.linear(x)\n",
        "    y_pred = self.sigmoid(z)\n",
        "    return y_pred"
      ],
      "metadata": {
        "id": "LYYWB1T8Z-_H"
      },
      "execution_count": 39,
      "outputs": []
    },
    {
      "cell_type": "code",
      "source": [
        "features = torch.rand(10, 5)\n",
        "model = Model(features.shape[1])\n",
        "# model.forward(features)\n",
        "\n",
        "# standard way uses Magic method __call__()\n",
        "model(features)"
      ],
      "metadata": {
        "id": "pAZHaFYSZ-r_",
        "colab": {
          "base_uri": "https://localhost:8080/"
        },
        "outputId": "1164d1c5-6ec6-4bce-908d-c0832b366f04"
      },
      "execution_count": 40,
      "outputs": [
        {
          "output_type": "execute_result",
          "data": {
            "text/plain": [
              "tensor([[0.5269],\n",
              "        [0.4063],\n",
              "        [0.4923],\n",
              "        [0.4427],\n",
              "        [0.4046],\n",
              "        [0.4381],\n",
              "        [0.3955],\n",
              "        [0.4899],\n",
              "        [0.5184],\n",
              "        [0.4536]], grad_fn=<SigmoidBackward0>)"
            ]
          },
          "metadata": {},
          "execution_count": 40
        }
      ]
    },
    {
      "cell_type": "code",
      "source": [
        "model.linear.weight, model.linear.bias"
      ],
      "metadata": {
        "colab": {
          "base_uri": "https://localhost:8080/"
        },
        "id": "Ujm6zZAn9HOr",
        "outputId": "86046532-f67f-4d6f-cbb7-1040195ddc13"
      },
      "execution_count": 41,
      "outputs": [
        {
          "output_type": "execute_result",
          "data": {
            "text/plain": [
              "(Parameter containing:\n",
              " tensor([[ 0.0026,  0.3077,  0.4087, -0.4060, -0.2869]], requires_grad=True),\n",
              " Parameter containing:\n",
              " tensor([-0.1200], requires_grad=True))"
            ]
          },
          "metadata": {},
          "execution_count": 41
        }
      ]
    },
    {
      "cell_type": "code",
      "source": [
        "!pip install torchinfo"
      ],
      "metadata": {
        "colab": {
          "base_uri": "https://localhost:8080/"
        },
        "id": "WLd1OipM7wXr",
        "outputId": "d803ef37-201b-4bc3-df9d-6f2e2f73ead4"
      },
      "execution_count": 42,
      "outputs": [
        {
          "output_type": "stream",
          "name": "stdout",
          "text": [
            "Requirement already satisfied: torchinfo in /usr/local/lib/python3.11/dist-packages (1.8.0)\n"
          ]
        }
      ]
    },
    {
      "cell_type": "code",
      "source": [
        "from torchinfo import summary\n",
        "summary(model, (10, 5))"
      ],
      "metadata": {
        "colab": {
          "base_uri": "https://localhost:8080/"
        },
        "id": "QgCRT58l77UT",
        "outputId": "9b5d1c6b-d51e-4885-95b6-5f9a838943d5"
      },
      "execution_count": 43,
      "outputs": [
        {
          "output_type": "execute_result",
          "data": {
            "text/plain": [
              "==========================================================================================\n",
              "Layer (type:depth-idx)                   Output Shape              Param #\n",
              "==========================================================================================\n",
              "Model                                    [10, 1]                   --\n",
              "├─Linear: 1-1                            [10, 1]                   6\n",
              "├─Sigmoid: 1-2                           [10, 1]                   --\n",
              "==========================================================================================\n",
              "Total params: 6\n",
              "Trainable params: 6\n",
              "Non-trainable params: 0\n",
              "Total mult-adds (Units.MEGABYTES): 0.00\n",
              "==========================================================================================\n",
              "Input size (MB): 0.00\n",
              "Forward/backward pass size (MB): 0.00\n",
              "Params size (MB): 0.00\n",
              "Estimated Total Size (MB): 0.00\n",
              "=========================================================================================="
            ]
          },
          "metadata": {},
          "execution_count": 43
        }
      ]
    },
    {
      "cell_type": "markdown",
      "source": [
        "## 2 LAYER NN"
      ],
      "metadata": {
        "id": "7eUPXhZc9u_Y"
      }
    },
    {
      "cell_type": "code",
      "source": [
        "class Model2(nn.Module):\n",
        "\n",
        "  def __init__(self, num_features):\n",
        "    super().__init__()\n",
        "    self.linear = nn.Linear(num_features, 3)\n",
        "    self.relu = nn.ReLU()\n",
        "    self.linear2 = nn.Linear(3, 1)\n",
        "    self.sigmoid = nn.Sigmoid()\n",
        "\n",
        "  def forward(self, x):\n",
        "    z = self.linear(x)\n",
        "    z = self.relu(z)\n",
        "    z = self.linear2(z)\n",
        "    y_pred = self.sigmoid(z)\n",
        "    return y_pred"
      ],
      "metadata": {
        "id": "Dx8JMvPU8FPg"
      },
      "execution_count": 44,
      "outputs": []
    },
    {
      "cell_type": "code",
      "source": [
        "features = torch.rand(10, 5)\n",
        "model = Model2(features.shape[1])\n",
        "model(features)"
      ],
      "metadata": {
        "colab": {
          "base_uri": "https://localhost:8080/"
        },
        "id": "dDrs1VFq-QkL",
        "outputId": "ee85eaba-d822-495b-9454-03e9fb31e96f"
      },
      "execution_count": 45,
      "outputs": [
        {
          "output_type": "execute_result",
          "data": {
            "text/plain": [
              "tensor([[0.4766],\n",
              "        [0.4519],\n",
              "        [0.4618],\n",
              "        [0.4500],\n",
              "        [0.4648],\n",
              "        [0.4740],\n",
              "        [0.4564],\n",
              "        [0.4826],\n",
              "        [0.4484],\n",
              "        [0.4861]], grad_fn=<SigmoidBackward0>)"
            ]
          },
          "metadata": {},
          "execution_count": 45
        }
      ]
    },
    {
      "cell_type": "code",
      "source": [
        "model.linear.weight, model.linear.bias"
      ],
      "metadata": {
        "colab": {
          "base_uri": "https://localhost:8080/"
        },
        "id": "HiE6sZom-QhZ",
        "outputId": "4921b0cd-4344-4400-a2b4-76648fccfa50"
      },
      "execution_count": 46,
      "outputs": [
        {
          "output_type": "execute_result",
          "data": {
            "text/plain": [
              "(Parameter containing:\n",
              " tensor([[-0.0135,  0.0083, -0.0320,  0.3296, -0.3521],\n",
              "         [-0.0449, -0.2936,  0.4354,  0.2370, -0.1369],\n",
              "         [-0.2495,  0.1216,  0.3438,  0.1015, -0.2063]], requires_grad=True),\n",
              " Parameter containing:\n",
              " tensor([ 0.2044, -0.3868,  0.1513], requires_grad=True))"
            ]
          },
          "metadata": {},
          "execution_count": 46
        }
      ]
    },
    {
      "cell_type": "code",
      "source": [
        "model.linear2.weight, model.linear2.bias"
      ],
      "metadata": {
        "colab": {
          "base_uri": "https://localhost:8080/"
        },
        "id": "_KC97LRE-QeC",
        "outputId": "345f7b8e-6f55-456e-c193-e4e343a7fbc9"
      },
      "execution_count": 47,
      "outputs": [
        {
          "output_type": "execute_result",
          "data": {
            "text/plain": [
              "(Parameter containing:\n",
              " tensor([[ 0.3888, -0.4243,  0.0310]], requires_grad=True),\n",
              " Parameter containing:\n",
              " tensor([-0.2149], requires_grad=True))"
            ]
          },
          "metadata": {},
          "execution_count": 47
        }
      ]
    },
    {
      "cell_type": "code",
      "source": [
        "summary(model, features.shape)"
      ],
      "metadata": {
        "colab": {
          "base_uri": "https://localhost:8080/"
        },
        "id": "3S-9gg0H-Qap",
        "outputId": "8cd3fd19-e3c8-417c-8dbf-01b8df36ce0f"
      },
      "execution_count": 48,
      "outputs": [
        {
          "output_type": "execute_result",
          "data": {
            "text/plain": [
              "==========================================================================================\n",
              "Layer (type:depth-idx)                   Output Shape              Param #\n",
              "==========================================================================================\n",
              "Model2                                   [10, 1]                   --\n",
              "├─Linear: 1-1                            [10, 3]                   18\n",
              "├─ReLU: 1-2                              [10, 3]                   --\n",
              "├─Linear: 1-3                            [10, 1]                   4\n",
              "├─Sigmoid: 1-4                           [10, 1]                   --\n",
              "==========================================================================================\n",
              "Total params: 22\n",
              "Trainable params: 22\n",
              "Non-trainable params: 0\n",
              "Total mult-adds (Units.MEGABYTES): 0.00\n",
              "==========================================================================================\n",
              "Input size (MB): 0.00\n",
              "Forward/backward pass size (MB): 0.00\n",
              "Params size (MB): 0.00\n",
              "Estimated Total Size (MB): 0.00\n",
              "=========================================================================================="
            ]
          },
          "metadata": {},
          "execution_count": 48
        }
      ]
    },
    {
      "cell_type": "markdown",
      "source": [
        "## SEQUENTIAL CONTAINERS\n"
      ],
      "metadata": {
        "id": "AngVWT4V_RaW"
      }
    },
    {
      "cell_type": "code",
      "source": [
        "class Model3(nn.Module):\n",
        "\n",
        "  def __init__(self, num_features):\n",
        "    super().__init__()\n",
        "    self.network = nn.Sequential(\n",
        "        nn.Linear(num_features, 3),\n",
        "        nn.ReLU(),\n",
        "        nn.Linear(3, 1),\n",
        "        nn.Sigmoid()\n",
        "    )\n",
        "\n",
        "  def forward(self, x):\n",
        "    y_pred = self.network(x)\n",
        "    return y_pred"
      ],
      "metadata": {
        "id": "TkNx8gQQ-QXv"
      },
      "execution_count": 50,
      "outputs": []
    },
    {
      "cell_type": "code",
      "source": [
        "data = torch.rand(10, 5)\n",
        "model = Model3(data.shape[1])\n",
        "model(data)"
      ],
      "metadata": {
        "colab": {
          "base_uri": "https://localhost:8080/"
        },
        "id": "g7cEpSxD_uAs",
        "outputId": "ee500518-0f21-486f-e332-ec09f9bb76e8"
      },
      "execution_count": 51,
      "outputs": [
        {
          "output_type": "execute_result",
          "data": {
            "text/plain": [
              "tensor([[0.5854],\n",
              "        [0.5683],\n",
              "        [0.6157],\n",
              "        [0.6236],\n",
              "        [0.6075],\n",
              "        [0.6155],\n",
              "        [0.6295],\n",
              "        [0.5306],\n",
              "        [0.6012],\n",
              "        [0.5947]], grad_fn=<SigmoidBackward0>)"
            ]
          },
          "metadata": {},
          "execution_count": 51
        }
      ]
    },
    {
      "cell_type": "code",
      "source": [
        "for idx, layer in enumerate(model.network):\n",
        "  if isinstance(layer, nn.Linear):\n",
        "    print(f\"Layer {idx}: {layer}, \\n weight: {layer.weight}\")\n",
        "  else:\n",
        "    print(f\"Layer {idx}: {layer}\")"
      ],
      "metadata": {
        "colab": {
          "base_uri": "https://localhost:8080/"
        },
        "id": "VIwsuWWF_t9T",
        "outputId": "e3a84dfc-f7d3-40ef-e4d8-0ef6f40fd2e2"
      },
      "execution_count": 61,
      "outputs": [
        {
          "output_type": "stream",
          "name": "stdout",
          "text": [
            "Layer 0: Linear(in_features=5, out_features=3, bias=True), \n",
            " weight: Parameter containing:\n",
            "tensor([[ 0.0239,  0.3781,  0.2996, -0.0584,  0.3363],\n",
            "        [-0.1512,  0.0020, -0.0729,  0.3896, -0.2260],\n",
            "        [ 0.3484, -0.2006, -0.1591, -0.2556,  0.3157]], requires_grad=True)\n",
            "Layer 1: ReLU()\n",
            "Layer 2: Linear(in_features=3, out_features=1, bias=True), \n",
            " weight: Parameter containing:\n",
            "tensor([[ 0.2291,  0.5698, -0.5039]], requires_grad=True)\n",
            "Layer 3: Sigmoid()\n"
          ]
        }
      ]
    },
    {
      "cell_type": "code",
      "source": [
        "summary(model, data.shape)"
      ],
      "metadata": {
        "colab": {
          "base_uri": "https://localhost:8080/"
        },
        "id": "8iRGDd3E_t1S",
        "outputId": "0d4056e2-424e-41c2-c0c5-3dab0dd86cfa"
      },
      "execution_count": 53,
      "outputs": [
        {
          "output_type": "execute_result",
          "data": {
            "text/plain": [
              "==========================================================================================\n",
              "Layer (type:depth-idx)                   Output Shape              Param #\n",
              "==========================================================================================\n",
              "Model3                                   [10, 1]                   --\n",
              "├─Sequential: 1-1                        [10, 1]                   --\n",
              "│    └─Linear: 2-1                       [10, 3]                   18\n",
              "│    └─ReLU: 2-2                         [10, 3]                   --\n",
              "│    └─Linear: 2-3                       [10, 1]                   4\n",
              "│    └─Sigmoid: 2-4                      [10, 1]                   --\n",
              "==========================================================================================\n",
              "Total params: 22\n",
              "Trainable params: 22\n",
              "Non-trainable params: 0\n",
              "Total mult-adds (Units.MEGABYTES): 0.00\n",
              "==========================================================================================\n",
              "Input size (MB): 0.00\n",
              "Forward/backward pass size (MB): 0.00\n",
              "Params size (MB): 0.00\n",
              "Estimated Total Size (MB): 0.00\n",
              "=========================================================================================="
            ]
          },
          "metadata": {},
          "execution_count": 53
        }
      ]
    },
    {
      "cell_type": "code",
      "source": [],
      "metadata": {
        "id": "TeAKK-mw-QTL"
      },
      "execution_count": 47,
      "outputs": []
    }
  ]
}