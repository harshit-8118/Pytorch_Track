{
  "nbformat": 4,
  "nbformat_minor": 0,
  "metadata": {
    "colab": {
      "provenance": [],
      "gpuType": "T4"
    },
    "kernelspec": {
      "name": "python3",
      "display_name": "Python 3"
    },
    "language_info": {
      "name": "python"
    },
    "accelerator": "GPU"
  },
  "cells": [
    {
      "cell_type": "code",
      "source": [
        "import torch as tc\n",
        "import numpy as np"
      ],
      "metadata": {
        "id": "Q2mwqpdRBtyL"
      },
      "execution_count": 1,
      "outputs": []
    },
    {
      "cell_type": "code",
      "source": [
        "x = tc.tensor(3, dtype=tc.float, requires_grad=True)\n",
        "y = x**2\n",
        "y.backward()\n",
        "x.grad"
      ],
      "metadata": {
        "colab": {
          "base_uri": "https://localhost:8080/"
        },
        "id": "98vczDTxBttE",
        "outputId": "1ec1269f-69cd-46be-e4f6-f1558270ece4"
      },
      "execution_count": 2,
      "outputs": [
        {
          "output_type": "execute_result",
          "data": {
            "text/plain": [
              "tensor(6.)"
            ]
          },
          "metadata": {},
          "execution_count": 2
        }
      ]
    },
    {
      "cell_type": "code",
      "source": [
        "x = tc.tensor(3, dtype=tc.float, requires_grad=True)\n",
        "y = x ** 2\n",
        "z = tc.sin(y)\n",
        "z.backward()\n",
        "x.grad"
      ],
      "metadata": {
        "colab": {
          "base_uri": "https://localhost:8080/"
        },
        "id": "s7_xLTqdBtqT",
        "outputId": "98d59419-56ae-4bfe-d699-2f7e0d1ab780"
      },
      "execution_count": 3,
      "outputs": [
        {
          "output_type": "execute_result",
          "data": {
            "text/plain": [
              "tensor(-5.4668)"
            ]
          },
          "metadata": {},
          "execution_count": 3
        }
      ]
    },
    {
      "cell_type": "code",
      "source": [
        "x, y, z"
      ],
      "metadata": {
        "colab": {
          "base_uri": "https://localhost:8080/"
        },
        "id": "B0AX_v2djkUD",
        "outputId": "e35075a0-a0df-4af9-8dce-c327da54d72a"
      },
      "execution_count": 4,
      "outputs": [
        {
          "output_type": "execute_result",
          "data": {
            "text/plain": [
              "(tensor(3., requires_grad=True),\n",
              " tensor(9., grad_fn=<PowBackward0>),\n",
              " tensor(0.4121, grad_fn=<SinBackward0>))"
            ]
          },
          "metadata": {},
          "execution_count": 4
        }
      ]
    },
    {
      "cell_type": "code",
      "source": [
        "# do by this method\n",
        "def dz_dx(x):\n",
        "  return 2 * x * tc.cos(x ** 2)\n",
        "dz_dx(x)"
      ],
      "metadata": {
        "colab": {
          "base_uri": "https://localhost:8080/"
        },
        "id": "x-EQgtt5BtnY",
        "outputId": "4ff05ced-efa3-4588-fae5-0ff8ecc14005"
      },
      "execution_count": 5,
      "outputs": [
        {
          "output_type": "execute_result",
          "data": {
            "text/plain": [
              "tensor(-5.4668, grad_fn=<MulBackward0>)"
            ]
          },
          "metadata": {},
          "execution_count": 5
        }
      ]
    },
    {
      "cell_type": "code",
      "source": [
        "def binary_cross_entropy(y_pred, y):\n",
        "  return -y * tc.log(y_pred) - (1 - y) * tc.log(1 - y_pred)"
      ],
      "metadata": {
        "id": "AOb55vXTn3Bp"
      },
      "execution_count": 6,
      "outputs": []
    },
    {
      "cell_type": "code",
      "source": [
        "x = tc.tensor(6.7)\n",
        "y = tc.tensor(0.0)\n",
        "\n",
        "w = tc.tensor(1, dtype=tc.float, requires_grad=True)\n",
        "b = tc.tensor(0, dtype=tc.float, requires_grad=True)\n",
        "\n",
        "z = w * x + b\n",
        "print(z)\n",
        "\n",
        "y_pred = tc.sigmoid(z)\n",
        "print(y_pred)\n",
        "loss = binary_cross_entropy(y_pred, y)\n",
        "\n",
        "print(loss)\n",
        "loss.backward()\n",
        "w.grad, b.grad"
      ],
      "metadata": {
        "colab": {
          "base_uri": "https://localhost:8080/"
        },
        "id": "i9qTBcm5Btb2",
        "outputId": "6c881851-5f7e-4448-ec8c-7960f92c946c"
      },
      "execution_count": 7,
      "outputs": [
        {
          "output_type": "stream",
          "name": "stdout",
          "text": [
            "tensor(6.7000, grad_fn=<AddBackward0>)\n",
            "tensor(0.9988, grad_fn=<SigmoidBackward0>)\n",
            "tensor(6.7012, grad_fn=<SubBackward0>)\n"
          ]
        },
        {
          "output_type": "execute_result",
          "data": {
            "text/plain": [
              "(tensor(6.6918), tensor(0.9988))"
            ]
          },
          "metadata": {},
          "execution_count": 7
        }
      ]
    },
    {
      "cell_type": "code",
      "source": [
        "x = tc.tensor([1.0, 2.0, 3.0], requires_grad=True)\n",
        "y = (x ** 2).mean()\n",
        "\n",
        "y.backward()\n",
        "x.grad"
      ],
      "metadata": {
        "colab": {
          "base_uri": "https://localhost:8080/"
        },
        "id": "L0JoJLriBtY_",
        "outputId": "8935ec18-4d82-4074-8270-351ef1471c7c"
      },
      "execution_count": 8,
      "outputs": [
        {
          "output_type": "execute_result",
          "data": {
            "text/plain": [
              "tensor([0.6667, 1.3333, 2.0000])"
            ]
          },
          "metadata": {},
          "execution_count": 8
        }
      ]
    },
    {
      "cell_type": "code",
      "source": [
        "# problem with the accumulation of gradients\n",
        "x = tc.tensor(4.0, requires_grad=True)"
      ],
      "metadata": {
        "id": "IHSVTsPqBtWR"
      },
      "execution_count": 9,
      "outputs": []
    },
    {
      "cell_type": "code",
      "source": [
        "# run this cell 4 times, you will get to know gradients accumulates and we will not get correct result\n",
        "\n",
        "y = (x ** 2)\n",
        "print(y)\n",
        "y.backward()\n",
        "x.grad"
      ],
      "metadata": {
        "colab": {
          "base_uri": "https://localhost:8080/"
        },
        "id": "WIxbslkkBtTZ",
        "outputId": "84a5644a-30bd-4096-d375-8380d595d2b1"
      },
      "execution_count": 10,
      "outputs": [
        {
          "output_type": "stream",
          "name": "stdout",
          "text": [
            "tensor(16., grad_fn=<PowBackward0>)\n"
          ]
        },
        {
          "output_type": "execute_result",
          "data": {
            "text/plain": [
              "tensor(8.)"
            ]
          },
          "metadata": {},
          "execution_count": 10
        }
      ]
    },
    {
      "cell_type": "code",
      "source": [
        "# either use clear grad\n",
        "\n",
        "y = (x ** 2)\n",
        "y.backward()\n",
        "print(x.grad)\n",
        "x.grad.zero_()"
      ],
      "metadata": {
        "colab": {
          "base_uri": "https://localhost:8080/"
        },
        "id": "2TL7kEPpBtQr",
        "outputId": "08f8e92a-ffcd-42f5-dd2e-6dd15a0fdba9"
      },
      "execution_count": 11,
      "outputs": [
        {
          "output_type": "stream",
          "name": "stdout",
          "text": [
            "tensor(16.)\n"
          ]
        },
        {
          "output_type": "execute_result",
          "data": {
            "text/plain": [
              "tensor(0.)"
            ]
          },
          "metadata": {},
          "execution_count": 11
        }
      ]
    },
    {
      "cell_type": "markdown",
      "source": [
        "### close gradient tracking"
      ],
      "metadata": {
        "id": "DjqwDzdRCIUR"
      }
    },
    {
      "cell_type": "code",
      "source": [
        "x = tc.tensor([1, 2, 3], dtype=tc.float, requires_grad=True)\n",
        "y = (x ** 2).mean()\n",
        "y.backward()\n",
        "x.grad, x"
      ],
      "metadata": {
        "colab": {
          "base_uri": "https://localhost:8080/"
        },
        "id": "_YNXINr8BtOD",
        "outputId": "8859075c-a9c3-490c-92e6-7e1c27184266"
      },
      "execution_count": 22,
      "outputs": [
        {
          "output_type": "execute_result",
          "data": {
            "text/plain": [
              "(tensor([0.6667, 1.3333, 2.0000]), tensor([1., 2., 3.], requires_grad=True))"
            ]
          },
          "metadata": {},
          "execution_count": 22
        }
      ]
    },
    {
      "cell_type": "code",
      "source": [
        "# Method 1\n",
        "x.requires_grad_(False)\n",
        "x.grad, x"
      ],
      "metadata": {
        "colab": {
          "base_uri": "https://localhost:8080/"
        },
        "id": "Z4Q3Ju1fBtLG",
        "outputId": "37488e77-74b6-4401-f7d1-8acb2e231a2b"
      },
      "execution_count": 24,
      "outputs": [
        {
          "output_type": "execute_result",
          "data": {
            "text/plain": [
              "(tensor([0.6667, 1.3333, 2.0000]), tensor([1., 2., 3.]))"
            ]
          },
          "metadata": {},
          "execution_count": 24
        }
      ]
    },
    {
      "cell_type": "code",
      "source": [
        "# Method 2\n",
        "x = tc.tensor([1, 2, 3], dtype=tc.float, requires_grad=True)\n",
        "p = x.detach_()\n",
        "p"
      ],
      "metadata": {
        "colab": {
          "base_uri": "https://localhost:8080/"
        },
        "id": "O1LAKfHIBtIS",
        "outputId": "6b8544a3-4dc7-4af1-cb02-5b5f9eccdccc"
      },
      "execution_count": 25,
      "outputs": [
        {
          "output_type": "execute_result",
          "data": {
            "text/plain": [
              "tensor([1., 2., 3.])"
            ]
          },
          "metadata": {},
          "execution_count": 25
        }
      ]
    },
    {
      "cell_type": "code",
      "source": [
        "# Method 3\n",
        "x = tc.tensor([1, 2, 3], dtype=tc.float, requires_grad=True)\n",
        "with tc.no_grad():\n",
        "  y = (x ** 2).mean()\n",
        "y"
      ],
      "metadata": {
        "colab": {
          "base_uri": "https://localhost:8080/"
        },
        "id": "8bg7DNP2BtFp",
        "outputId": "1c1c9134-e2af-422b-e8e7-6b35f4c39c8e"
      },
      "execution_count": 28,
      "outputs": [
        {
          "output_type": "execute_result",
          "data": {
            "text/plain": [
              "tensor(4.6667)"
            ]
          },
          "metadata": {},
          "execution_count": 28
        }
      ]
    },
    {
      "cell_type": "code",
      "source": [],
      "metadata": {
        "id": "2bKu0PCCBtCk"
      },
      "execution_count": 11,
      "outputs": []
    },
    {
      "cell_type": "code",
      "source": [],
      "metadata": {
        "id": "j9EvGztLBs_v"
      },
      "execution_count": 11,
      "outputs": []
    },
    {
      "cell_type": "code",
      "source": [],
      "metadata": {
        "id": "6x39rTzQBs9Q"
      },
      "execution_count": 11,
      "outputs": []
    },
    {
      "cell_type": "code",
      "source": [],
      "metadata": {
        "id": "Aab_8TFxBszV"
      },
      "execution_count": 11,
      "outputs": []
    },
    {
      "cell_type": "code",
      "execution_count": 11,
      "metadata": {
        "id": "vGCbVEOiBpIf"
      },
      "outputs": [],
      "source": []
    }
  ]
}