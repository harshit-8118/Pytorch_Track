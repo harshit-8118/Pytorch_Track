{
  "nbformat": 4,
  "nbformat_minor": 0,
  "metadata": {
    "colab": {
      "provenance": [],
      "gpuType": "T4"
    },
    "kernelspec": {
      "name": "python3",
      "display_name": "Python 3"
    },
    "language_info": {
      "name": "python"
    },
    "accelerator": "GPU"
  },
  "cells": [
    {
      "cell_type": "code",
      "execution_count": 1,
      "metadata": {
        "id": "yW1hUCuuNSvG"
      },
      "outputs": [],
      "source": [
        "import torch\n",
        "import torch.nn as nn\n",
        "import torch.optim as optim\n",
        "import matplotlib.pyplot as plt\n",
        "from torch.utils.data import Dataset, DataLoader\n",
        "import tensorflow as tf\n",
        "from tensorflow.keras.datasets import mnist"
      ]
    },
    {
      "cell_type": "code",
      "source": [
        "(Xtrain, Ytrain), (Xtest, Ytest) = mnist.load_data()"
      ],
      "metadata": {
        "colab": {
          "base_uri": "https://localhost:8080/"
        },
        "id": "O6Vxb0grRo_7",
        "outputId": "45e38331-54b9-4c75-9677-871a2b35b032"
      },
      "execution_count": 2,
      "outputs": [
        {
          "output_type": "stream",
          "name": "stdout",
          "text": [
            "Downloading data from https://storage.googleapis.com/tensorflow/tf-keras-datasets/mnist.npz\n",
            "\u001b[1m11490434/11490434\u001b[0m \u001b[32m━━━━━━━━━━━━━━━━━━━━\u001b[0m\u001b[37m\u001b[0m \u001b[1m0s\u001b[0m 0us/step\n"
          ]
        }
      ]
    },
    {
      "cell_type": "code",
      "source": [
        "Xtrain.shape, Ytrain.shape, Xtest.shape, Ytest.shape"
      ],
      "metadata": {
        "colab": {
          "base_uri": "https://localhost:8080/"
        },
        "id": "D9jEwy_Pnh5b",
        "outputId": "c3eb277a-5ea2-4caf-c863-b09c4e809c32"
      },
      "execution_count": 3,
      "outputs": [
        {
          "output_type": "execute_result",
          "data": {
            "text/plain": [
              "((60000, 28, 28), (60000,), (10000, 28, 28), (10000,))"
            ]
          },
          "metadata": {},
          "execution_count": 3
        }
      ]
    },
    {
      "cell_type": "code",
      "source": [
        "Xtrain = Xtrain / 255.0\n",
        "Xtest = Xtest / 255.0"
      ],
      "metadata": {
        "id": "4et_0boKnjnI"
      },
      "execution_count": 4,
      "outputs": []
    },
    {
      "cell_type": "code",
      "source": [
        "def draw(img, label):\n",
        "  img = img.reshape((28, 28))\n",
        "  plt.imshow(img, cmap='gray')\n",
        "  plt.title(str(label))\n",
        "  plt.axis('off')\n",
        "\n",
        "draw(Xtrain[1], Ytrain[1])"
      ],
      "metadata": {
        "colab": {
          "base_uri": "https://localhost:8080/",
          "height": 428
        },
        "id": "zuAjS9a5ntaq",
        "outputId": "772986a1-ce83-401d-9af8-8fb36b867b38"
      },
      "execution_count": 5,
      "outputs": [
        {
          "output_type": "display_data",
          "data": {
            "text/plain": [
              "<Figure size 640x480 with 1 Axes>"
            ],
            "image/png": "[encoded data removed]"
          },
          "metadata": {}
        }
      ]
    },
    {
      "cell_type": "code",
      "source": [
        "class CustomDataset(Dataset):\n",
        "  def __init__(self, images, labels):\n",
        "    self.features = torch.tensor(images, dtype=torch.float32).reshape(-1, 1, 28, 28)\n",
        "    self.labels = torch.tensor(labels, dtype=torch.long)\n",
        "\n",
        "  def __len__(self):\n",
        "    return len(self.labels)\n",
        "\n",
        "  def __getitem__(self, idx):\n",
        "    return self.features[idx], self.labels[idx]"
      ],
      "metadata": {
        "id": "NzamHexfoIWh"
      },
      "execution_count": 6,
      "outputs": []
    },
    {
      "cell_type": "code",
      "source": [
        "train_dataset = CustomDataset(Xtrain, Ytrain)\n",
        "test_dataset = CustomDataset(Xtest, Ytest)"
      ],
      "metadata": {
        "id": "EIjNbkAzpYI9"
      },
      "execution_count": 7,
      "outputs": []
    },
    {
      "cell_type": "code",
      "source": [
        "len(train_dataset), len(test_dataset)"
      ],
      "metadata": {
        "colab": {
          "base_uri": "https://localhost:8080/"
        },
        "id": "qJD_GxmPpcd5",
        "outputId": "f5a9c8d6-1da7-4c45-9051-85bc3a1fa8d6"
      },
      "execution_count": 8,
      "outputs": [
        {
          "output_type": "execute_result",
          "data": {
            "text/plain": [
              "(60000, 10000)"
            ]
          },
          "metadata": {},
          "execution_count": 8
        }
      ]
    },
    {
      "cell_type": "code",
      "source": [
        "train_dataset[0]\n",
        "\n",
        "draw(train_dataset[0][0], train_dataset[0][1])"
      ],
      "metadata": {
        "colab": {
          "base_uri": "https://localhost:8080/",
          "height": 428
        },
        "id": "NFdvYl0TplHl",
        "outputId": "6e1c4f5e-d69e-401c-8bf4-35f88263da6f"
      },
      "execution_count": 9,
      "outputs": [
        {
          "output_type": "display_data",
          "data": {
            "text/plain": [
              "<Figure size 640x480 with 1 Axes>"
            ],
            "image/png": "[encoded data removed]"
          },
          "metadata": {}
        }
      ]
    },
    {
      "cell_type": "code",
      "source": [
        "train_loader = DataLoader(train_dataset, batch_size=32, shuffle=True, pin_memory=True)\n",
        "test_loader = DataLoader(test_dataset, batch_size=32, shuffle=False, pin_memory=True)"
      ],
      "metadata": {
        "id": "HcGry0Vap4n1"
      },
      "execution_count": 10,
      "outputs": []
    },
    {
      "cell_type": "code",
      "source": [
        "class MyNN(nn.Module):\n",
        "  def __init__(self, input_channels):\n",
        "    super().__init__()\n",
        "\n",
        "    self.features = nn.Sequential(\n",
        "        nn.Conv2d(input_channels, 32, kernel_size=3, stride=1, padding='same'),\n",
        "        nn.ReLU(),\n",
        "        nn.BatchNorm2d(32),\n",
        "        nn.MaxPool2d(kernel_size=2, stride=2),\n",
        "\n",
        "        nn.Conv2d(32, 64, kernel_size=3, stride=1, padding='same'),\n",
        "        nn.ReLU(),\n",
        "        nn.BatchNorm2d(64),\n",
        "        nn.MaxPool2d(kernel_size=2, stride=2),\n",
        "    )\n",
        "    self.classifier = nn.Sequential(\n",
        "        nn.Flatten(start_dim=1),\n",
        "\n",
        "        nn.Linear(64 * 7 * 7, 128),\n",
        "        nn.ReLU(),\n",
        "        nn.Dropout(0.3),\n",
        "\n",
        "        nn.Linear(128, 64),\n",
        "        nn.ReLU(),\n",
        "        nn.Dropout(0.3),\n",
        "\n",
        "        nn.Linear(64, 10)\n",
        "    )\n",
        "\n",
        "  def forward(self, x):\n",
        "    x = self.features(x)\n",
        "    x = self.classifier(x)\n",
        "    return x"
      ],
      "metadata": {
        "id": "EJKay_6FqNXr"
      },
      "execution_count": 11,
      "outputs": []
    },
    {
      "cell_type": "code",
      "source": [
        "learning_rate = 0.01\n",
        "epochs = 100"
      ],
      "metadata": {
        "id": "eSBL2O7Iv_S0"
      },
      "execution_count": 12,
      "outputs": []
    },
    {
      "cell_type": "code",
      "source": [
        "device = 'cuda' if torch.cuda.is_available() else 'cpu'"
      ],
      "metadata": {
        "id": "tjN3xExLwJ_K"
      },
      "execution_count": 13,
      "outputs": []
    },
    {
      "cell_type": "code",
      "source": [
        "model = MyNN(1)\n",
        "model.to(device)\n",
        "\n",
        "criterion = nn.CrossEntropyLoss()\n",
        "optimizer = optim.SGD(model.parameters(), lr=learning_rate, weight_decay=0.0001)"
      ],
      "metadata": {
        "id": "06cDvrKOu_e2"
      },
      "execution_count": 14,
      "outputs": []
    },
    {
      "cell_type": "code",
      "source": [
        "!pip install torchinfo\n",
        "\n",
        "from torchinfo import summary\n",
        "\n",
        "\n",
        "summary(model, input_size=(32, 1, 28, 28))"
      ],
      "metadata": {
        "colab": {
          "base_uri": "https://localhost:8080/"
        },
        "id": "MkPb_yKxx4jx",
        "outputId": "025d87ef-1f8b-4e15-cc46-5e76efdc14c5"
      },
      "execution_count": 15,
      "outputs": [
        {
          "output_type": "stream",
          "name": "stdout",
          "text": [
            "Collecting torchinfo\n",
            "  Downloading torchinfo-1.8.0-py3-none-any.whl.metadata (21 kB)\n",
            "Downloading torchinfo-1.8.0-py3-none-any.whl (23 kB)\n",
            "Installing collected packages: torchinfo\n",
            "Successfully installed torchinfo-1.8.0\n"
          ]
        },
        {
          "output_type": "execute_result",
          "data": {
            "text/plain": [
              "==========================================================================================\n",
              "Layer (type:depth-idx)                   Output Shape              Param #\n",
              "==========================================================================================\n",
              "MyNN                                     [32, 10]                  --\n",
              "├─Sequential: 1-1                        [32, 64, 7, 7]            --\n",
              "│    └─Conv2d: 2-1                       [32, 32, 28, 28]          320\n",
              "│    └─ReLU: 2-2                         [32, 32, 28, 28]          --\n",
              "│    └─BatchNorm2d: 2-3                  [32, 32, 28, 28]          64\n",
              "│    └─MaxPool2d: 2-4                    [32, 32, 14, 14]          --\n",
              "│    └─Conv2d: 2-5                       [32, 64, 14, 14]          18,496\n",
              "│    └─ReLU: 2-6                         [32, 64, 14, 14]          --\n",
              "│    └─BatchNorm2d: 2-7                  [32, 64, 14, 14]          128\n",
              "│    └─MaxPool2d: 2-8                    [32, 64, 7, 7]            --\n",
              "├─Sequential: 1-2                        [32, 10]                  --\n",
              "│    └─Flatten: 2-9                      [32, 3136]                --\n",
              "│    └─Linear: 2-10                      [32, 128]                 401,536\n",
              "│    └─ReLU: 2-11                        [32, 128]                 --\n",
              "│    └─Dropout: 2-12                     [32, 128]                 --\n",
              "│    └─Linear: 2-13                      [32, 64]                  8,256\n",
              "│    └─ReLU: 2-14                        [32, 64]                  --\n",
              "│    └─Dropout: 2-15                     [32, 64]                  --\n",
              "│    └─Linear: 2-16                      [32, 10]                  650\n",
              "==========================================================================================\n",
              "Total params: 429,450\n",
              "Trainable params: 429,450\n",
              "Non-trainable params: 0\n",
              "Total mult-adds (Units.MEGABYTES): 137.18\n",
              "==========================================================================================\n",
              "Input size (MB): 0.10\n",
              "Forward/backward pass size (MB): 19.32\n",
              "Params size (MB): 1.72\n",
              "Estimated Total Size (MB): 21.14\n",
              "=========================================================================================="
            ]
          },
          "metadata": {},
          "execution_count": 15
        }
      ]
    },
    {
      "cell_type": "code",
      "source": [
        "for epoch in range(epochs):\n",
        "  total_epochs_loss = 0\n",
        "  for batch_f, batch_l in train_loader:\n",
        "    batch_f = batch_f.to(device)\n",
        "    batch_l = batch_l.to(device)\n",
        "    output = model(batch_f)\n",
        "    loss = criterion(output, batch_l)\n",
        "\n",
        "    optimizer.zero_grad()\n",
        "\n",
        "    loss.backward()\n",
        "    optimizer.step()\n",
        "\n",
        "    total_epochs_loss += loss.item()\n",
        "  accuracy = total_epochs_loss / len(train_loader)\n",
        "  print(f'Epoch: {epoch + 1}, Loss: {accuracy}')"
      ],
      "metadata": {
        "colab": {
          "base_uri": "https://localhost:8080/"
        },
        "id": "rm2OmplawNjA",
        "outputId": "69835e73-aa16-4c3e-b9b0-fb43b424ad15"
      },
      "execution_count": 16,
      "outputs": [
        {
          "output_type": "stream",
          "name": "stdout",
          "text": [
            "Epoch: 1, Loss: 0.2779638116632899\n",
            "Epoch: 2, Loss: 0.07769861443166931\n",
            "Epoch: 3, Loss: 0.05390608548509578\n",
            "Epoch: 4, Loss: 0.04253862039175195\n",
            "Epoch: 5, Loss: 0.03302172332795647\n",
            "Epoch: 6, Loss: 0.02928303214671711\n",
            "Epoch: 7, Loss: 0.024322287916531786\n",
            "Epoch: 8, Loss: 0.019797438867456125\n",
            "Epoch: 9, Loss: 0.016116511450040463\n",
            "Epoch: 10, Loss: 0.01665999336548848\n",
            "Epoch: 11, Loss: 0.013561702895585526\n",
            "Epoch: 12, Loss: 0.01229843321131193\n",
            "Epoch: 13, Loss: 0.011282957262219862\n",
            "Epoch: 14, Loss: 0.009866440173780817\n",
            "Epoch: 15, Loss: 0.007560825076812762\n",
            "Epoch: 16, Loss: 0.007311091368750204\n",
            "Epoch: 17, Loss: 0.007157499043490679\n",
            "Epoch: 18, Loss: 0.006623887710475537\n",
            "Epoch: 19, Loss: 0.00633690794401385\n",
            "Epoch: 20, Loss: 0.005402002290417538\n",
            "Epoch: 21, Loss: 0.004813447017796231\n",
            "Epoch: 22, Loss: 0.004887252752413769\n",
            "Epoch: 23, Loss: 0.003958275664063452\n",
            "Epoch: 24, Loss: 0.004038835630046136\n",
            "Epoch: 25, Loss: 0.003196830302251692\n",
            "Epoch: 26, Loss: 0.003186358790279822\n",
            "Epoch: 27, Loss: 0.004006753158894328\n",
            "Epoch: 28, Loss: 0.003028732598952532\n",
            "Epoch: 29, Loss: 0.003378953544011771\n",
            "Epoch: 30, Loss: 0.003024309520564323\n",
            "Epoch: 31, Loss: 0.0025176027585767768\n",
            "Epoch: 32, Loss: 0.0024261200944486216\n",
            "Epoch: 33, Loss: 0.002331135100493672\n",
            "Epoch: 34, Loss: 0.00224698514968483\n",
            "Epoch: 35, Loss: 0.0025160433444107186\n",
            "Epoch: 36, Loss: 0.0026235955344456065\n",
            "Epoch: 37, Loss: 0.0022607013596049304\n",
            "Epoch: 38, Loss: 0.0018928893079002591\n",
            "Epoch: 39, Loss: 0.0017764573203257897\n",
            "Epoch: 40, Loss: 0.0018781859319393637\n",
            "Epoch: 41, Loss: 0.0016967966326344897\n",
            "Epoch: 42, Loss: 0.001733114744842654\n",
            "Epoch: 43, Loss: 0.0020500977085981427\n",
            "Epoch: 44, Loss: 0.0023765944729783163\n",
            "Epoch: 45, Loss: 0.0013882726886822183\n",
            "Epoch: 46, Loss: 0.001509056530766217\n",
            "Epoch: 47, Loss: 0.0021442875712206237\n",
            "Epoch: 48, Loss: 0.001650957505224081\n",
            "Epoch: 49, Loss: 0.001281621005027902\n",
            "Epoch: 50, Loss: 0.0013314693674898006\n",
            "Epoch: 51, Loss: 0.0013990875211554643\n",
            "Epoch: 52, Loss: 0.0013949454466743191\n",
            "Epoch: 53, Loss: 0.0014517327595550493\n",
            "Epoch: 54, Loss: 0.0013848873198452566\n",
            "Epoch: 55, Loss: 0.0013440725845789226\n",
            "Epoch: 56, Loss: 0.0015533435869180417\n",
            "Epoch: 57, Loss: 0.0011704382034430335\n",
            "Epoch: 58, Loss: 0.0015951050533264757\n",
            "Epoch: 59, Loss: 0.0010955834852531855\n",
            "Epoch: 60, Loss: 0.001429016188085537\n",
            "Epoch: 61, Loss: 0.0012195245027201737\n",
            "Epoch: 62, Loss: 0.0013696619254774912\n",
            "Epoch: 63, Loss: 0.0009303582608614154\n",
            "Epoch: 64, Loss: 0.0010066133238504865\n",
            "Epoch: 65, Loss: 0.0010970834338946626\n",
            "Epoch: 66, Loss: 0.0012974463568654908\n",
            "Epoch: 67, Loss: 0.0010298927410450991\n",
            "Epoch: 68, Loss: 0.0011350671929387015\n",
            "Epoch: 69, Loss: 0.0010145963853128478\n",
            "Epoch: 70, Loss: 0.0009891078218559717\n",
            "Epoch: 71, Loss: 0.0010953945848313196\n",
            "Epoch: 72, Loss: 0.000983136435841455\n",
            "Epoch: 73, Loss: 0.0008818843334253416\n",
            "Epoch: 74, Loss: 0.0013709844755660319\n",
            "Epoch: 75, Loss: 0.001101760698320777\n",
            "Epoch: 76, Loss: 0.0009170520694392811\n",
            "Epoch: 77, Loss: 0.0009235313093568379\n",
            "Epoch: 78, Loss: 0.001012770031592936\n",
            "Epoch: 79, Loss: 0.0009075875786791281\n",
            "Epoch: 80, Loss: 0.0014022273707436246\n",
            "Epoch: 81, Loss: 0.0008269962112925895\n",
            "Epoch: 82, Loss: 0.0012354788838921953\n",
            "Epoch: 83, Loss: 0.0009485647503040734\n",
            "Epoch: 84, Loss: 0.0010149014280054795\n",
            "Epoch: 85, Loss: 0.0009460548825465139\n",
            "Epoch: 86, Loss: 0.0009414123927174387\n",
            "Epoch: 87, Loss: 0.0012838541073264878\n",
            "Epoch: 88, Loss: 0.0010211858271552045\n",
            "Epoch: 89, Loss: 0.000859089145287165\n",
            "Epoch: 90, Loss: 0.0011518192734920074\n",
            "Epoch: 91, Loss: 0.0009311860650873011\n",
            "Epoch: 92, Loss: 0.0006780706524561614\n",
            "Epoch: 93, Loss: 0.0006260364059065372\n",
            "Epoch: 94, Loss: 0.0006532392491795463\n",
            "Epoch: 95, Loss: 0.0006453674591631928\n",
            "Epoch: 96, Loss: 0.0009367804780569637\n",
            "Epoch: 97, Loss: 0.0007304773841071968\n",
            "Epoch: 98, Loss: 0.0008978725336371706\n",
            "Epoch: 99, Loss: 0.0007626296834213614\n",
            "Epoch: 100, Loss: 0.0006606900529382377\n"
          ]
        }
      ]
    },
    {
      "cell_type": "code",
      "source": [
        "model.eval()"
      ],
      "metadata": {
        "colab": {
          "base_uri": "https://localhost:8080/"
        },
        "id": "UPiahkcaw16R",
        "outputId": "c2d646b5-c2ae-4fce-90c3-24ecb85bcf56"
      },
      "execution_count": 19,
      "outputs": [
        {
          "output_type": "execute_result",
          "data": {
            "text/plain": [
              "MyNN(\n",
              "  (features): Sequential(\n",
              "    (0): Conv2d(1, 32, kernel_size=(3, 3), stride=(1, 1), padding=same)\n",
              "    (1): ReLU()\n",
              "    (2): BatchNorm2d(32, eps=1e-05, momentum=0.1, affine=True, track_running_stats=True)\n",
              "    (3): MaxPool2d(kernel_size=2, stride=2, padding=0, dilation=1, ceil_mode=False)\n",
              "    (4): Conv2d(32, 64, kernel_size=(3, 3), stride=(1, 1), padding=same)\n",
              "    (5): ReLU()\n",
              "    (6): BatchNorm2d(64, eps=1e-05, momentum=0.1, affine=True, track_running_stats=True)\n",
              "    (7): MaxPool2d(kernel_size=2, stride=2, padding=0, dilation=1, ceil_mode=False)\n",
              "  )\n",
              "  (classifier): Sequential(\n",
              "    (0): Flatten(start_dim=1, end_dim=-1)\n",
              "    (1): Linear(in_features=3136, out_features=128, bias=True)\n",
              "    (2): ReLU()\n",
              "    (3): Dropout(p=0.3, inplace=False)\n",
              "    (4): Linear(in_features=128, out_features=64, bias=True)\n",
              "    (5): ReLU()\n",
              "    (6): Dropout(p=0.3, inplace=False)\n",
              "    (7): Linear(in_features=64, out_features=10, bias=True)\n",
              "  )\n",
              ")"
            ]
          },
          "metadata": {},
          "execution_count": 19
        }
      ]
    },
    {
      "cell_type": "code",
      "source": [
        "total = 0\n",
        "correct = 0\n",
        "\n",
        "with torch.no_grad():\n",
        "  for batch_f, batch_l in test_loader:\n",
        "    batch_f = batch_f.to(device)\n",
        "    batch_l = batch_l.to(device)\n",
        "    output = model(batch_f)\n",
        "    _, pred = torch.max(output, 1)\n",
        "    total += batch_l.shape[0]\n",
        "    correct += (pred == batch_l).sum().item()\n",
        "\n",
        "print(f'Accuracy: {correct / total}')"
      ],
      "metadata": {
        "colab": {
          "base_uri": "https://localhost:8080/"
        },
        "id": "u2XMqDCRyjS0",
        "outputId": "288d3c58-fa2f-48e1-cf73-95e8a69cdc05"
      },
      "execution_count": 23,
      "outputs": [
        {
          "output_type": "stream",
          "name": "stdout",
          "text": [
            "Accuracy: 0.9941\n"
          ]
        }
      ]
    },
    {
      "cell_type": "code",
      "source": [
        "total = 0\n",
        "correct = 0\n",
        "\n",
        "with torch.no_grad():\n",
        "  for batch_f, batch_l in train_loader:\n",
        "    batch_f = batch_f.to(device)\n",
        "    batch_l = batch_l.to(device)\n",
        "    output = model(batch_f)\n",
        "    _, pred = torch.max(output, 1)\n",
        "    total += batch_l.shape[0]\n",
        "    correct += (pred == batch_l).sum().item()\n",
        "\n",
        "print(f'Accuracy: {correct / total}')"
      ],
      "metadata": {
        "colab": {
          "base_uri": "https://localhost:8080/"
        },
        "id": "FInkTTAz7CFv",
        "outputId": "0429961c-2206-456b-de31-6db4be70d866"
      },
      "execution_count": 24,
      "outputs": [
        {
          "output_type": "stream",
          "name": "stdout",
          "text": [
            "Accuracy: 1.0\n"
          ]
        }
      ]
    },
    {
      "cell_type": "code",
      "source": [],
      "metadata": {
        "id": "bQYgAV4D_FRa"
      },
      "execution_count": null,
      "outputs": []
    }
  ]
}