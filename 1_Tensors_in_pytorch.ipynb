{
  "nbformat": 4,
  "nbformat_minor": 0,
  "metadata": {
    "colab": {
      "provenance": [],
      "gpuType": "T4"
    },
    "kernelspec": {
      "name": "python3",
      "display_name": "Python 3"
    },
    "language_info": {
      "name": "python"
    },
    "accelerator": "GPU"
  },
  "cells": [
    {
      "cell_type": "code",
      "source": [
        "import torch"
      ],
      "metadata": {
        "id": "Uw9CZYIOrj0v"
      },
      "execution_count": 1,
      "outputs": []
    },
    {
      "cell_type": "code",
      "source": [
        "print(torch.__version__)"
      ],
      "metadata": {
        "id": "faV62f4Mrjxm",
        "colab": {
          "base_uri": "https://localhost:8080/"
        },
        "outputId": "c5bb8299-cbff-46b4-a911-b1eaf08011ec"
      },
      "execution_count": 2,
      "outputs": [
        {
          "output_type": "stream",
          "name": "stdout",
          "text": [
            "2.6.0+cu124\n"
          ]
        }
      ]
    },
    {
      "cell_type": "code",
      "source": [
        "if torch.cuda.is_available():\n",
        "  print(f'Gpu is availabe {torch.cuda.get_device_name()}')\n",
        "else:\n",
        "  print('Gpu is not available')\n"
      ],
      "metadata": {
        "id": "SohX5a9_rjuh",
        "colab": {
          "base_uri": "https://localhost:8080/"
        },
        "outputId": "ef6e0b38-1c13-4dde-e709-b1354928a825"
      },
      "execution_count": 3,
      "outputs": [
        {
          "output_type": "stream",
          "name": "stdout",
          "text": [
            "Gpu is availabe Tesla T4\n"
          ]
        }
      ]
    },
    {
      "cell_type": "code",
      "source": [
        "a = torch.tensor([\n",
        "    [1, 2, 3],\n",
        "    [4, 5, 6]\n",
        "])\n",
        "a, type(a)"
      ],
      "metadata": {
        "id": "yrEVzXVJrjrh",
        "colab": {
          "base_uri": "https://localhost:8080/"
        },
        "outputId": "5ae54cd1-846f-402b-a0e4-81294974168e"
      },
      "execution_count": 4,
      "outputs": [
        {
          "output_type": "execute_result",
          "data": {
            "text/plain": [
              "(tensor([[1, 2, 3],\n",
              "         [4, 5, 6]]),\n",
              " torch.Tensor)"
            ]
          },
          "metadata": {},
          "execution_count": 4
        }
      ]
    },
    {
      "cell_type": "code",
      "source": [
        "torch.eye(3)"
      ],
      "metadata": {
        "id": "FmOUqcVzrjoR",
        "colab": {
          "base_uri": "https://localhost:8080/"
        },
        "outputId": "b2404a84-5c37-45f1-dc6e-7462727de24a"
      },
      "execution_count": 5,
      "outputs": [
        {
          "output_type": "execute_result",
          "data": {
            "text/plain": [
              "tensor([[1., 0., 0.],\n",
              "        [0., 1., 0.],\n",
              "        [0., 0., 1.]])"
            ]
          },
          "metadata": {},
          "execution_count": 5
        }
      ]
    },
    {
      "cell_type": "code",
      "source": [
        "torch.full((3, 4), 5)"
      ],
      "metadata": {
        "id": "2zFEDpCnrjk2",
        "colab": {
          "base_uri": "https://localhost:8080/"
        },
        "outputId": "c8b58de3-f4cd-43d6-b096-8bdc292a1c37"
      },
      "execution_count": 6,
      "outputs": [
        {
          "output_type": "execute_result",
          "data": {
            "text/plain": [
              "tensor([[5, 5, 5, 5],\n",
              "        [5, 5, 5, 5],\n",
              "        [5, 5, 5, 5]])"
            ]
          },
          "metadata": {},
          "execution_count": 6
        }
      ]
    },
    {
      "cell_type": "code",
      "source": [
        "torch.linspace(0, 10, 5)"
      ],
      "metadata": {
        "id": "JH6ItQrRrjh6",
        "colab": {
          "base_uri": "https://localhost:8080/"
        },
        "outputId": "4fd02dd8-f473-4951-cec0-7eb58a3380ad"
      },
      "execution_count": 7,
      "outputs": [
        {
          "output_type": "execute_result",
          "data": {
            "text/plain": [
              "tensor([ 0.0000,  2.5000,  5.0000,  7.5000, 10.0000])"
            ]
          },
          "metadata": {},
          "execution_count": 7
        }
      ]
    },
    {
      "cell_type": "code",
      "source": [
        "torch.arange(0, 10, 2)"
      ],
      "metadata": {
        "id": "X3QqyfWvrjef",
        "colab": {
          "base_uri": "https://localhost:8080/"
        },
        "outputId": "452a4ca9-79b6-41fb-f707-abed91e43870"
      },
      "execution_count": 8,
      "outputs": [
        {
          "output_type": "execute_result",
          "data": {
            "text/plain": [
              "tensor([0, 2, 4, 6, 8])"
            ]
          },
          "metadata": {},
          "execution_count": 8
        }
      ]
    },
    {
      "cell_type": "code",
      "source": [
        "torch.manual_seed(42)\n",
        "a = torch.rand(2, 3)\n",
        "a"
      ],
      "metadata": {
        "id": "1xWXL2ZkrjbR",
        "colab": {
          "base_uri": "https://localhost:8080/"
        },
        "outputId": "580ca99c-4596-4c7d-d761-1a06fbc57329"
      },
      "execution_count": 9,
      "outputs": [
        {
          "output_type": "execute_result",
          "data": {
            "text/plain": [
              "tensor([[0.8823, 0.9150, 0.3829],\n",
              "        [0.9593, 0.3904, 0.6009]])"
            ]
          },
          "metadata": {},
          "execution_count": 9
        }
      ]
    },
    {
      "cell_type": "code",
      "source": [
        "torch.zeros((2, 4)), torch.ones((2, 4))"
      ],
      "metadata": {
        "id": "LiiekUVZrjS4",
        "colab": {
          "base_uri": "https://localhost:8080/"
        },
        "outputId": "f6eeed78-b29c-4e0c-a03e-8a491b1b09a0"
      },
      "execution_count": 10,
      "outputs": [
        {
          "output_type": "execute_result",
          "data": {
            "text/plain": [
              "(tensor([[0., 0., 0., 0.],\n",
              "         [0., 0., 0., 0.]]),\n",
              " tensor([[1., 1., 1., 1.],\n",
              "         [1., 1., 1., 1.]]))"
            ]
          },
          "metadata": {},
          "execution_count": 10
        }
      ]
    },
    {
      "cell_type": "code",
      "source": [
        "x = torch.tensor([\n",
        "   [[1, 2, 3],\n",
        "    [2, 3, 4]],\n",
        "   [[1, 2, 3],\n",
        "    [2, 3, 4]],\n",
        "])\n",
        "x.shape"
      ],
      "metadata": {
        "colab": {
          "base_uri": "https://localhost:8080/"
        },
        "id": "4-joi5r-0njB",
        "outputId": "5e7b46cc-cc73-4745-97f2-5f55e48d719d"
      },
      "execution_count": 11,
      "outputs": [
        {
          "output_type": "execute_result",
          "data": {
            "text/plain": [
              "torch.Size([2, 2, 3])"
            ]
          },
          "metadata": {},
          "execution_count": 11
        }
      ]
    },
    {
      "cell_type": "code",
      "source": [
        "y = torch.ones_like(x)\n",
        "y"
      ],
      "metadata": {
        "colab": {
          "base_uri": "https://localhost:8080/"
        },
        "id": "GP3_HS4S0ngY",
        "outputId": "fccacb26-c112-4b9a-82d0-3baec56e1f71"
      },
      "execution_count": 12,
      "outputs": [
        {
          "output_type": "execute_result",
          "data": {
            "text/plain": [
              "tensor([[[1, 1, 1],\n",
              "         [1, 1, 1]],\n",
              "\n",
              "        [[1, 1, 1],\n",
              "         [1, 1, 1]]])"
            ]
          },
          "metadata": {},
          "execution_count": 12
        }
      ]
    },
    {
      "cell_type": "code",
      "source": [
        "torch.rand_like(x, dtype=torch.float)"
      ],
      "metadata": {
        "colab": {
          "base_uri": "https://localhost:8080/"
        },
        "id": "60-_V0UW0ndx",
        "outputId": "26b577c6-23ba-4374-9ec6-e08e532f844d"
      },
      "execution_count": 13,
      "outputs": [
        {
          "output_type": "execute_result",
          "data": {
            "text/plain": [
              "tensor([[[0.2566, 0.7936, 0.9408],\n",
              "         [0.1332, 0.9346, 0.5936]],\n",
              "\n",
              "        [[0.8694, 0.5677, 0.7411],\n",
              "         [0.4294, 0.8854, 0.5739]]])"
            ]
          },
          "metadata": {},
          "execution_count": 13
        }
      ]
    },
    {
      "cell_type": "code",
      "source": [
        "x.dtype"
      ],
      "metadata": {
        "colab": {
          "base_uri": "https://localhost:8080/"
        },
        "id": "q7TdL8JV0naj",
        "outputId": "d09dca1e-c321-4d6c-d7ed-7eb10b452718"
      },
      "execution_count": 14,
      "outputs": [
        {
          "output_type": "execute_result",
          "data": {
            "text/plain": [
              "torch.int64"
            ]
          },
          "metadata": {},
          "execution_count": 14
        }
      ]
    },
    {
      "cell_type": "code",
      "source": [
        "y = x.to(torch.float16)\n",
        "y"
      ],
      "metadata": {
        "colab": {
          "base_uri": "https://localhost:8080/"
        },
        "id": "IX3IB_p00nX1",
        "outputId": "d4f9846b-7940-446c-8c56-ed22214857bb"
      },
      "execution_count": 15,
      "outputs": [
        {
          "output_type": "execute_result",
          "data": {
            "text/plain": [
              "tensor([[[1., 2., 3.],\n",
              "         [2., 3., 4.]],\n",
              "\n",
              "        [[1., 2., 3.],\n",
              "         [2., 3., 4.]]], dtype=torch.float16)"
            ]
          },
          "metadata": {},
          "execution_count": 15
        }
      ]
    },
    {
      "cell_type": "code",
      "source": [
        "x.dtype, y.dtype"
      ],
      "metadata": {
        "colab": {
          "base_uri": "https://localhost:8080/"
        },
        "id": "FEH5958n0nUW",
        "outputId": "76a480cb-f002-46ea-bd06-e27dd7c2f737"
      },
      "execution_count": 16,
      "outputs": [
        {
          "output_type": "execute_result",
          "data": {
            "text/plain": [
              "(torch.int64, torch.float16)"
            ]
          },
          "metadata": {},
          "execution_count": 16
        }
      ]
    },
    {
      "cell_type": "code",
      "source": [
        "x = torch.tensor([[2, 4], [7, 8]])\n",
        "x + 2, x * 2, x / 2, x // 2, x % 5, x ** 2"
      ],
      "metadata": {
        "colab": {
          "base_uri": "https://localhost:8080/"
        },
        "id": "rL3bX17q0nRD",
        "outputId": "c2290f47-17e6-4def-fa68-ea4e5aa8eec7"
      },
      "execution_count": 17,
      "outputs": [
        {
          "output_type": "execute_result",
          "data": {
            "text/plain": [
              "(tensor([[ 4,  6],\n",
              "         [ 9, 10]]),\n",
              " tensor([[ 4,  8],\n",
              "         [14, 16]]),\n",
              " tensor([[1.0000, 2.0000],\n",
              "         [3.5000, 4.0000]]),\n",
              " tensor([[1, 2],\n",
              "         [3, 4]]),\n",
              " tensor([[2, 4],\n",
              "         [2, 3]]),\n",
              " tensor([[ 4, 16],\n",
              "         [49, 64]]))"
            ]
          },
          "metadata": {},
          "execution_count": 17
        }
      ]
    },
    {
      "cell_type": "code",
      "source": [
        "x + torch.eye(2)"
      ],
      "metadata": {
        "colab": {
          "base_uri": "https://localhost:8080/"
        },
        "id": "O_4FZozz0nNJ",
        "outputId": "a5aa4929-8ac4-434f-cf86-e14ccdb01517"
      },
      "execution_count": 18,
      "outputs": [
        {
          "output_type": "execute_result",
          "data": {
            "text/plain": [
              "tensor([[3., 4.],\n",
              "        [7., 9.]])"
            ]
          },
          "metadata": {},
          "execution_count": 18
        }
      ]
    },
    {
      "cell_type": "code",
      "source": [
        "x * torch.tensor([3, 2])"
      ],
      "metadata": {
        "colab": {
          "base_uri": "https://localhost:8080/"
        },
        "id": "qbsFWCAZ0nJy",
        "outputId": "5ce6d86e-7fb8-4c75-ccd6-eeb787a3a928"
      },
      "execution_count": 19,
      "outputs": [
        {
          "output_type": "execute_result",
          "data": {
            "text/plain": [
              "tensor([[ 6,  8],\n",
              "        [21, 16]])"
            ]
          },
          "metadata": {},
          "execution_count": 19
        }
      ]
    },
    {
      "cell_type": "code",
      "source": [
        "x @ torch.tensor([3, 2])"
      ],
      "metadata": {
        "id": "wUFS2QRLrhdV",
        "colab": {
          "base_uri": "https://localhost:8080/"
        },
        "outputId": "adf1002c-acbf-404d-ee63-ea186150eb6e"
      },
      "execution_count": 20,
      "outputs": [
        {
          "output_type": "execute_result",
          "data": {
            "text/plain": [
              "tensor([14, 37])"
            ]
          },
          "metadata": {},
          "execution_count": 20
        }
      ]
    },
    {
      "cell_type": "code",
      "source": [
        "x = torch.randint(1, 10, (3, 3), dtype=torch.float)\n",
        "x"
      ],
      "metadata": {
        "id": "gE2egExdriAG",
        "colab": {
          "base_uri": "https://localhost:8080/"
        },
        "outputId": "3b6bf1b3-d5cc-45e4-a05a-1ab85ebe8acd"
      },
      "execution_count": 21,
      "outputs": [
        {
          "output_type": "execute_result",
          "data": {
            "text/plain": [
              "tensor([[4., 5., 5.],\n",
              "        [9., 2., 6.],\n",
              "        [9., 5., 3.]])"
            ]
          },
          "metadata": {},
          "execution_count": 21
        }
      ]
    },
    {
      "cell_type": "code",
      "source": [
        "x.sum(), x.sum(dim=0), x.sum(dim=1)"
      ],
      "metadata": {
        "colab": {
          "base_uri": "https://localhost:8080/"
        },
        "id": "u8rfIAWHhmkc",
        "outputId": "66b16336-5347-4465-d505-b93f29b94477"
      },
      "execution_count": 22,
      "outputs": [
        {
          "output_type": "execute_result",
          "data": {
            "text/plain": [
              "(tensor(48.), tensor([22., 12., 14.]), tensor([14., 17., 17.]))"
            ]
          },
          "metadata": {},
          "execution_count": 22
        }
      ]
    },
    {
      "cell_type": "code",
      "source": [
        "torch.sum(x), torch.sum(x, dim=0), torch.sum(x, dim=1)"
      ],
      "metadata": {
        "colab": {
          "base_uri": "https://localhost:8080/"
        },
        "id": "pSdnIWzChmhI",
        "outputId": "68722a19-7980-4181-b5dd-587bb5d1c0da"
      },
      "execution_count": 23,
      "outputs": [
        {
          "output_type": "execute_result",
          "data": {
            "text/plain": [
              "(tensor(48.), tensor([22., 12., 14.]), tensor([14., 17., 17.]))"
            ]
          },
          "metadata": {},
          "execution_count": 23
        }
      ]
    },
    {
      "cell_type": "code",
      "source": [
        "torch.mean(x), torch.mean(x, dim=0), torch.mean(x, dim=1)"
      ],
      "metadata": {
        "colab": {
          "base_uri": "https://localhost:8080/"
        },
        "id": "1O8doXxDhmeD",
        "outputId": "2c6a931e-7cc4-4100-a3ec-15a9ea640fd4"
      },
      "execution_count": 24,
      "outputs": [
        {
          "output_type": "execute_result",
          "data": {
            "text/plain": [
              "(tensor(5.3333),\n",
              " tensor([7.3333, 4.0000, 4.6667]),\n",
              " tensor([4.6667, 5.6667, 5.6667]))"
            ]
          },
          "metadata": {},
          "execution_count": 24
        }
      ]
    },
    {
      "cell_type": "code",
      "source": [
        "arr = torch.randint(-5, 10, (5, ))\n",
        "arr, torch.argmax(arr), torch.argmin(arr)"
      ],
      "metadata": {
        "colab": {
          "base_uri": "https://localhost:8080/"
        },
        "id": "Xd-O8mfxhmbP",
        "outputId": "aecf458b-8361-4a3c-e5fb-edd39b09ab2b"
      },
      "execution_count": 25,
      "outputs": [
        {
          "output_type": "execute_result",
          "data": {
            "text/plain": [
              "(tensor([ 4,  2, -1,  7, -5]), tensor(3), tensor(4))"
            ]
          },
          "metadata": {},
          "execution_count": 25
        }
      ]
    },
    {
      "cell_type": "code",
      "source": [
        "a = torch.tensor([\n",
        "    [1, 2],\n",
        "    [3, 4]\n",
        "])\n",
        "b = torch.tensor([\n",
        "    [1, 3],\n",
        "    [4, 3]\n",
        "])\n",
        "\n",
        "a * b, torch.matmul(a, b), a @ b"
      ],
      "metadata": {
        "colab": {
          "base_uri": "https://localhost:8080/"
        },
        "id": "m9DT5M16hmYG",
        "outputId": "fdec987d-fe28-495d-980b-adfaa31eea2b"
      },
      "execution_count": 26,
      "outputs": [
        {
          "output_type": "execute_result",
          "data": {
            "text/plain": [
              "(tensor([[ 1,  6],\n",
              "         [12, 12]]),\n",
              " tensor([[ 9,  9],\n",
              "         [19, 21]]),\n",
              " tensor([[ 9,  9],\n",
              "         [19, 21]]))"
            ]
          },
          "metadata": {},
          "execution_count": 26
        }
      ]
    },
    {
      "cell_type": "code",
      "source": [
        "mat = torch.randint(1, 10, (3, 3), dtype=torch.float)\n",
        "mat"
      ],
      "metadata": {
        "colab": {
          "base_uri": "https://localhost:8080/"
        },
        "id": "XivzBfNVhmVg",
        "outputId": "331906d9-aef1-4d19-985b-1496c8d32eda"
      },
      "execution_count": 27,
      "outputs": [
        {
          "output_type": "execute_result",
          "data": {
            "text/plain": [
              "tensor([[8., 8., 9.],\n",
              "        [8., 3., 6.],\n",
              "        [2., 4., 3.]])"
            ]
          },
          "metadata": {},
          "execution_count": 27
        }
      ]
    },
    {
      "cell_type": "code",
      "source": [
        "torch.transpose(mat, 0, 1)"
      ],
      "metadata": {
        "colab": {
          "base_uri": "https://localhost:8080/"
        },
        "id": "g_h0CKe_hmSu",
        "outputId": "d7b4fc40-cca7-4a3a-9629-43594f59f217"
      },
      "execution_count": 28,
      "outputs": [
        {
          "output_type": "execute_result",
          "data": {
            "text/plain": [
              "tensor([[8., 8., 2.],\n",
              "        [8., 3., 4.],\n",
              "        [9., 6., 3.]])"
            ]
          },
          "metadata": {},
          "execution_count": 28
        }
      ]
    },
    {
      "cell_type": "code",
      "source": [
        "torch.det(mat)"
      ],
      "metadata": {
        "colab": {
          "base_uri": "https://localhost:8080/"
        },
        "id": "9-FaI-jQhmQA",
        "outputId": "edbb833a-de6e-4ff4-953f-5becde4283a6"
      },
      "execution_count": 29,
      "outputs": [
        {
          "output_type": "execute_result",
          "data": {
            "text/plain": [
              "tensor(18.0000)"
            ]
          },
          "metadata": {},
          "execution_count": 29
        }
      ]
    },
    {
      "cell_type": "code",
      "source": [
        "a = torch.tensor([\n",
        "    [1, 2, 3],\n",
        "    [4, 5, 6],\n",
        "    [7, 8, 9]\n",
        "])\n",
        "b = torch.tensor([\n",
        "    [1, 4, 2],\n",
        "    [5, 3, 2],\n",
        "    [1, 1, 3]\n",
        "])\n",
        "a > b, a != b, a < b, a == b"
      ],
      "metadata": {
        "colab": {
          "base_uri": "https://localhost:8080/"
        },
        "id": "bkfSvby1hmNP",
        "outputId": "b596386e-b8a4-4c50-d920-fdf975ab4b87"
      },
      "execution_count": 30,
      "outputs": [
        {
          "output_type": "execute_result",
          "data": {
            "text/plain": [
              "(tensor([[False, False,  True],\n",
              "         [False,  True,  True],\n",
              "         [ True,  True,  True]]),\n",
              " tensor([[False,  True,  True],\n",
              "         [ True,  True,  True],\n",
              "         [ True,  True,  True]]),\n",
              " tensor([[False,  True, False],\n",
              "         [ True, False, False],\n",
              "         [False, False, False]]),\n",
              " tensor([[ True, False, False],\n",
              "         [False, False, False],\n",
              "         [False, False, False]]))"
            ]
          },
          "metadata": {},
          "execution_count": 30
        }
      ]
    },
    {
      "cell_type": "code",
      "source": [
        "torch.cuda.is_available()"
      ],
      "metadata": {
        "colab": {
          "base_uri": "https://localhost:8080/"
        },
        "id": "EpW8RiMvhmKN",
        "outputId": "f4c9abd7-d2ea-4a37-c407-675c2f2019af"
      },
      "execution_count": 31,
      "outputs": [
        {
          "output_type": "execute_result",
          "data": {
            "text/plain": [
              "True"
            ]
          },
          "metadata": {},
          "execution_count": 31
        }
      ]
    },
    {
      "cell_type": "code",
      "source": [
        "device = torch.device('cuda' if torch.cuda.is_available() else 'cpu')\n",
        "device"
      ],
      "metadata": {
        "colab": {
          "base_uri": "https://localhost:8080/"
        },
        "id": "5dIWgBz8hmE6",
        "outputId": "49f13581-569f-4d60-b6da-7ac77ef499ce"
      },
      "execution_count": 32,
      "outputs": [
        {
          "output_type": "execute_result",
          "data": {
            "text/plain": [
              "device(type='cuda')"
            ]
          },
          "metadata": {},
          "execution_count": 32
        }
      ]
    },
    {
      "cell_type": "code",
      "source": [
        "a = torch.tensor([1, 2, 3])\n",
        "a"
      ],
      "metadata": {
        "colab": {
          "base_uri": "https://localhost:8080/"
        },
        "id": "g2C0Ne6qhmBe",
        "outputId": "7366ae37-c842-4626-b987-8a9aef65e191"
      },
      "execution_count": 38,
      "outputs": [
        {
          "output_type": "execute_result",
          "data": {
            "text/plain": [
              "tensor([1, 2, 3])"
            ]
          },
          "metadata": {},
          "execution_count": 38
        }
      ]
    },
    {
      "cell_type": "code",
      "source": [
        "b = torch.tensor([1, 2, 4], device=device)\n",
        "b"
      ],
      "metadata": {
        "colab": {
          "base_uri": "https://localhost:8080/"
        },
        "id": "Xn4FCN2_hl-L",
        "outputId": "a72a70d5-e046-49be-b4b4-396f0ad531bf"
      },
      "execution_count": 40,
      "outputs": [
        {
          "output_type": "execute_result",
          "data": {
            "text/plain": [
              "tensor([1, 2, 4], device='cuda:0')"
            ]
          },
          "metadata": {},
          "execution_count": 40
        }
      ]
    },
    {
      "cell_type": "code",
      "source": [
        "c = a.to(device)\n",
        "c"
      ],
      "metadata": {
        "colab": {
          "base_uri": "https://localhost:8080/"
        },
        "id": "Wd3PpLcjhl7W",
        "outputId": "0a3bff8e-24ba-4b63-b6d6-153d2085ad54"
      },
      "execution_count": 41,
      "outputs": [
        {
          "output_type": "execute_result",
          "data": {
            "text/plain": [
              "tensor([1, 2, 3], device='cuda:0')"
            ]
          },
          "metadata": {},
          "execution_count": 41
        }
      ]
    },
    {
      "cell_type": "code",
      "source": [],
      "metadata": {
        "id": "5Xd5qlbDhl4C"
      },
      "execution_count": 42,
      "outputs": []
    },
    {
      "cell_type": "code",
      "source": [
        "# check difference between tensor on cpu vs tensors on gpu\n",
        "import time\n",
        "\n",
        "size = 10000\n",
        "a = torch.rand(size, size)\n",
        "b = torch.rand(size, size)\n",
        "start_time = time.time()\n",
        "prod = a @ b\n",
        "end_time = time.time()\n",
        "cpu_time = end_time - start_time\n",
        "\n",
        "print(f'Time taken by cpu {cpu_time} seconds')"
      ],
      "metadata": {
        "colab": {
          "base_uri": "https://localhost:8080/"
        },
        "id": "_oQ-yokb1wN3",
        "outputId": "26b3bbd5-aae1-4fef-f46b-bece13345b7a"
      },
      "execution_count": 50,
      "outputs": [
        {
          "output_type": "stream",
          "name": "stdout",
          "text": [
            "Time taken by cpu 27.31231141090393 seconds\n"
          ]
        }
      ]
    },
    {
      "cell_type": "code",
      "source": [
        "a = torch.rand(size, size, device=device)\n",
        "b = torch.rand(size, size, device=device)\n",
        "\n",
        "start_time = time.time()\n",
        "prod = a @ b\n",
        "end_time = time.time()\n",
        "gpu_time = end_time - start_time\n",
        "\n",
        "print(f'Time taken by gpu {gpu_time} seconds')\n",
        "\n",
        "print(f'gpu is {torch.ceil(torch.tensor([cpu_time / gpu_time]))[0]} times faster than cpu')"
      ],
      "metadata": {
        "colab": {
          "base_uri": "https://localhost:8080/"
        },
        "id": "odJF-QrE2Ay6",
        "outputId": "0eb3d894-be79-4980-9a3a-dca0bf8fc4ee"
      },
      "execution_count": 70,
      "outputs": [
        {
          "output_type": "stream",
          "name": "stdout",
          "text": [
            "Time taken by gpu 0.0003058910369873047 seconds\n",
            "gpu is 89288.0 times faster than cpu\n"
          ]
        }
      ]
    },
    {
      "cell_type": "code",
      "source": [
        "a = torch.rand((4,))\n",
        "print(a)\n",
        "a = a.reshape((-1, 1))\n",
        "print(a)"
      ],
      "metadata": {
        "colab": {
          "base_uri": "https://localhost:8080/"
        },
        "id": "G2jXWa4z2Avc",
        "outputId": "cc0c0672-d072-424e-da07-e61d71e70ab5"
      },
      "execution_count": 79,
      "outputs": [
        {
          "output_type": "stream",
          "name": "stdout",
          "text": [
            "tensor([0.1952, 0.5085, 0.1602, 0.0169])\n",
            "tensor([[0.1952],\n",
            "        [0.5085],\n",
            "        [0.1602],\n",
            "        [0.0169]])\n"
          ]
        }
      ]
    },
    {
      "cell_type": "code",
      "source": [
        "import numpy as np"
      ],
      "metadata": {
        "id": "SsoVXemW2ApZ"
      },
      "execution_count": 81,
      "outputs": []
    },
    {
      "cell_type": "code",
      "source": [
        "arr = np.array([4, 5, 6])\n",
        "arr"
      ],
      "metadata": {
        "colab": {
          "base_uri": "https://localhost:8080/"
        },
        "id": "yvrA4KEB2AnD",
        "outputId": "3210975a-4262-4232-a5e7-6195f1ab045f"
      },
      "execution_count": 82,
      "outputs": [
        {
          "output_type": "execute_result",
          "data": {
            "text/plain": [
              "array([4, 5, 6])"
            ]
          },
          "metadata": {},
          "execution_count": 82
        }
      ]
    },
    {
      "cell_type": "code",
      "source": [
        "tch = torch.tensor([4, 5, 6])\n",
        "tch"
      ],
      "metadata": {
        "colab": {
          "base_uri": "https://localhost:8080/"
        },
        "id": "RHMQhPHq2Aj3",
        "outputId": "76f87156-0eb3-4877-b94d-2ba527fbf5bb"
      },
      "execution_count": 83,
      "outputs": [
        {
          "output_type": "execute_result",
          "data": {
            "text/plain": [
              "tensor([4, 5, 6])"
            ]
          },
          "metadata": {},
          "execution_count": 83
        }
      ]
    },
    {
      "cell_type": "code",
      "source": [
        "b = tch.numpy()\n",
        "b"
      ],
      "metadata": {
        "colab": {
          "base_uri": "https://localhost:8080/"
        },
        "id": "HrBOSvQj2AhC",
        "outputId": "4d844702-70e4-4cc5-eaee-08829adfeb1b"
      },
      "execution_count": 84,
      "outputs": [
        {
          "output_type": "execute_result",
          "data": {
            "text/plain": [
              "array([4, 5, 6])"
            ]
          },
          "metadata": {},
          "execution_count": 84
        }
      ]
    },
    {
      "cell_type": "code",
      "source": [
        "c = torch.from_numpy(arr)\n",
        "c"
      ],
      "metadata": {
        "colab": {
          "base_uri": "https://localhost:8080/"
        },
        "id": "WO9BtF__2AeH",
        "outputId": "0fba8adc-8474-450d-8dc0-ade8f9cdb5e8"
      },
      "execution_count": 85,
      "outputs": [
        {
          "output_type": "execute_result",
          "data": {
            "text/plain": [
              "tensor([4, 5, 6])"
            ]
          },
          "metadata": {},
          "execution_count": 85
        }
      ]
    },
    {
      "cell_type": "code",
      "source": [],
      "metadata": {
        "id": "qGcLgKSm2AbI"
      },
      "execution_count": null,
      "outputs": []
    },
    {
      "cell_type": "code",
      "source": [],
      "metadata": {
        "id": "bSZAiB7E2AYH"
      },
      "execution_count": null,
      "outputs": []
    },
    {
      "cell_type": "code",
      "source": [],
      "metadata": {
        "id": "lCtpJEEz2AVc"
      },
      "execution_count": null,
      "outputs": []
    },
    {
      "cell_type": "code",
      "source": [],
      "metadata": {
        "id": "QVt9Jde32ASa"
      },
      "execution_count": null,
      "outputs": []
    },
    {
      "cell_type": "code",
      "source": [],
      "metadata": {
        "id": "qUPZV_tj2APO"
      },
      "execution_count": null,
      "outputs": []
    },
    {
      "cell_type": "code",
      "source": [],
      "metadata": {
        "id": "yAok99WR2AME"
      },
      "execution_count": null,
      "outputs": []
    },
    {
      "cell_type": "code",
      "source": [],
      "metadata": {
        "id": "YHSgzreg1-3_"
      },
      "execution_count": 43,
      "outputs": []
    }
  ]
}