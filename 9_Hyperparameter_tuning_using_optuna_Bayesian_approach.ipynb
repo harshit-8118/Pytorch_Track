{
  "nbformat": 4,
  "nbformat_minor": 0,
  "metadata": {
    "colab": {
      "provenance": [],
      "gpuType": "T4"
    },
    "kernelspec": {
      "name": "python3",
      "display_name": "Python 3"
    },
    "language_info": {
      "name": "python"
    },
    "accelerator": "GPU"
  },
  "cells": [
    {
      "cell_type": "code",
      "execution_count": 1,
      "metadata": {
        "id": "rGFrqoa0IIzH"
      },
      "outputs": [],
      "source": [
        "import torch\n",
        "import torch.nn as nn\n",
        "\n",
        "import tensorflow as tf\n",
        "from tensorflow.keras.datasets import mnist"
      ]
    },
    {
      "cell_type": "markdown",
      "source": [
        "### Dataset and Preprocessing"
      ],
      "metadata": {
        "id": "p_gcSZV-f8fP"
      }
    },
    {
      "cell_type": "code",
      "source": [
        "(X, y), (Xtest, ytest) = mnist.load_data()"
      ],
      "metadata": {
        "id": "T0sOJSHrgBDD",
        "colab": {
          "base_uri": "https://localhost:8080/"
        },
        "outputId": "cd890bd6-541c-4d79-ae9a-b35090da6fed"
      },
      "execution_count": 2,
      "outputs": [
        {
          "output_type": "stream",
          "name": "stdout",
          "text": [
            "Downloading data from https://storage.googleapis.com/tensorflow/tf-keras-datasets/mnist.npz\n",
            "\u001b[1m11490434/11490434\u001b[0m \u001b[32m━━━━━━━━━━━━━━━━━━━━\u001b[0m\u001b[37m\u001b[0m \u001b[1m0s\u001b[0m 0us/step\n"
          ]
        }
      ]
    },
    {
      "cell_type": "code",
      "source": [
        "X.shape, y.shape, Xtest.shape, ytest.shape"
      ],
      "metadata": {
        "colab": {
          "base_uri": "https://localhost:8080/"
        },
        "id": "5IVYR6_WgA_l",
        "outputId": "aa988dc0-fb51-4f44-a373-ea0090695609"
      },
      "execution_count": 3,
      "outputs": [
        {
          "output_type": "execute_result",
          "data": {
            "text/plain": [
              "((60000, 28, 28), (60000,), (10000, 28, 28), (10000,))"
            ]
          },
          "metadata": {},
          "execution_count": 3
        }
      ]
    },
    {
      "cell_type": "code",
      "source": [
        "device = 'cuda' if torch.cuda.is_available() else 'cpu'\n",
        "device"
      ],
      "metadata": {
        "colab": {
          "base_uri": "https://localhost:8080/",
          "height": 35
        },
        "id": "TW0MlUue2kPT",
        "outputId": "a3b198e8-c7c9-4781-99d2-ec741d12b489"
      },
      "execution_count": 4,
      "outputs": [
        {
          "output_type": "execute_result",
          "data": {
            "text/plain": [
              "'cpu'"
            ],
            "application/vnd.google.colaboratory.intrinsic+json": {
              "type": "string"
            }
          },
          "metadata": {},
          "execution_count": 4
        }
      ]
    },
    {
      "cell_type": "code",
      "source": [
        "from sklearn.preprocessing import StandardScaler\n",
        "\n",
        "scaler = StandardScaler()\n",
        "X = scaler.fit_transform(X.reshape(-1, 28*28))\n",
        "Xtest = scaler.transform(Xtest.reshape(-1, 28*28))"
      ],
      "metadata": {
        "id": "mheELP0KgA8N"
      },
      "execution_count": 5,
      "outputs": []
    },
    {
      "cell_type": "code",
      "source": [
        "X.shape, Xtest.shape"
      ],
      "metadata": {
        "colab": {
          "base_uri": "https://localhost:8080/"
        },
        "id": "yAwq1HBegA4k",
        "outputId": "ab6b3fbc-8f67-4648-9ed5-8869ac2f023f"
      },
      "execution_count": 6,
      "outputs": [
        {
          "output_type": "execute_result",
          "data": {
            "text/plain": [
              "((60000, 784), (10000, 784))"
            ]
          },
          "metadata": {},
          "execution_count": 6
        }
      ]
    },
    {
      "cell_type": "code",
      "source": [
        "from torch.utils.data import Dataset, DataLoader\n",
        "torch.manual_seed(42)"
      ],
      "metadata": {
        "colab": {
          "base_uri": "https://localhost:8080/"
        },
        "id": "jQSYW-cdkpBq",
        "outputId": "6a8d4130-a1e0-4c03-c2c4-d8b52f67c549"
      },
      "execution_count": 7,
      "outputs": [
        {
          "output_type": "execute_result",
          "data": {
            "text/plain": [
              "<torch._C.Generator at 0x7ba175b2d2f0>"
            ]
          },
          "metadata": {},
          "execution_count": 7
        }
      ]
    },
    {
      "cell_type": "code",
      "source": [
        "class customDataset(Dataset):\n",
        "  def __init__(self, X, Y):\n",
        "    self.X = torch.tensor(X, dtype=torch.float32)\n",
        "    self.Y = torch.tensor(Y, dtype=torch.long)\n",
        "\n",
        "  def __len__(self):\n",
        "    return len(self.X)\n",
        "\n",
        "  def __getitem__(self, i):\n",
        "    return self.X[i], self.Y[i]"
      ],
      "metadata": {
        "id": "2eG7ufw9i7wd"
      },
      "execution_count": 8,
      "outputs": []
    },
    {
      "cell_type": "code",
      "source": [
        "train_dataset = customDataset(X, y)\n",
        "test_dataset = customDataset(Xtest, ytest)"
      ],
      "metadata": {
        "id": "z3WNaG8VjJ7m"
      },
      "execution_count": 26,
      "outputs": []
    },
    {
      "cell_type": "code",
      "source": [
        "len(train_dataset), train_dataset[0][0].shape"
      ],
      "metadata": {
        "colab": {
          "base_uri": "https://localhost:8080/"
        },
        "collapsed": true,
        "id": "LLRk2IQcjsei",
        "outputId": "8e2cdff7-bf23-41d5-f13f-0aa593aacfc5"
      },
      "execution_count": 10,
      "outputs": [
        {
          "output_type": "execute_result",
          "data": {
            "text/plain": [
              "(60000, torch.Size([784]))"
            ]
          },
          "metadata": {},
          "execution_count": 10
        }
      ]
    },
    {
      "cell_type": "code",
      "source": [
        "!pip install optuna"
      ],
      "metadata": {
        "colab": {
          "base_uri": "https://localhost:8080/"
        },
        "id": "GgOG4TQZkBgy",
        "outputId": "5a6c728e-00c9-4f6e-9950-a189d91ee7d5"
      },
      "execution_count": 11,
      "outputs": [
        {
          "output_type": "stream",
          "name": "stdout",
          "text": [
            "Collecting optuna\n",
            "  Downloading optuna-4.3.0-py3-none-any.whl.metadata (17 kB)\n",
            "Collecting alembic>=1.5.0 (from optuna)\n",
            "  Downloading alembic-1.16.1-py3-none-any.whl.metadata (7.3 kB)\n",
            "Collecting colorlog (from optuna)\n",
            "  Downloading colorlog-6.9.0-py3-none-any.whl.metadata (10 kB)\n",
            "Requirement already satisfied: numpy in /usr/local/lib/python3.11/dist-packages (from optuna) (2.0.2)\n",
            "Requirement already satisfied: packaging>=20.0 in /usr/local/lib/python3.11/dist-packages (from optuna) (24.2)\n",
            "Requirement already satisfied: sqlalchemy>=1.4.2 in /usr/local/lib/python3.11/dist-packages (from optuna) (2.0.41)\n",
            "Requirement already satisfied: tqdm in /usr/local/lib/python3.11/dist-packages (from optuna) (4.67.1)\n",
            "Requirement already satisfied: PyYAML in /usr/local/lib/python3.11/dist-packages (from optuna) (6.0.2)\n",
            "Requirement already satisfied: Mako in /usr/lib/python3/dist-packages (from alembic>=1.5.0->optuna) (1.1.3)\n",
            "Requirement already satisfied: typing-extensions>=4.12 in /usr/local/lib/python3.11/dist-packages (from alembic>=1.5.0->optuna) (4.13.2)\n",
            "Requirement already satisfied: greenlet>=1 in /usr/local/lib/python3.11/dist-packages (from sqlalchemy>=1.4.2->optuna) (3.2.2)\n",
            "Downloading optuna-4.3.0-py3-none-any.whl (386 kB)\n",
            "\u001b[2K   \u001b[90m━━━━━━━━━━━━━━━━━━━━━━━━━━━━━━━━━━━━━━━━\u001b[0m \u001b[32m386.6/386.6 kB\u001b[0m \u001b[31m7.2 MB/s\u001b[0m eta \u001b[36m0:00:00\u001b[0m\n",
            "\u001b[?25hDownloading alembic-1.16.1-py3-none-any.whl (242 kB)\n",
            "\u001b[2K   \u001b[90m━━━━━━━━━━━━━━━━━━━━━━━━━━━━━━━━━━━━━━━━\u001b[0m \u001b[32m242.5/242.5 kB\u001b[0m \u001b[31m15.4 MB/s\u001b[0m eta \u001b[36m0:00:00\u001b[0m\n",
            "\u001b[?25hDownloading colorlog-6.9.0-py3-none-any.whl (11 kB)\n",
            "Installing collected packages: colorlog, alembic, optuna\n",
            "Successfully installed alembic-1.16.1 colorlog-6.9.0 optuna-4.3.0\n"
          ]
        }
      ]
    },
    {
      "cell_type": "code",
      "source": [
        "class MyNN(nn.Module):\n",
        "  def __init__(self, input_dim, output_dim, num_hidden_layers, neurons_per_layers, dropout_rate):\n",
        "    super().__init__()\n",
        "    layers = []\n",
        "    for i in range(num_hidden_layers):\n",
        "      layers.append(nn.Linear(input_dim, neurons_per_layers))\n",
        "      layers.append(nn.BatchNorm1d(neurons_per_layers))\n",
        "      layers.append(nn.ReLU())\n",
        "      layers.append(nn.Dropout(dropout_rate))\n",
        "      input_dim = neurons_per_layers\n",
        "\n",
        "    layers.append(nn.Linear(input_dim, output_dim))\n",
        "\n",
        "    self.network = nn.Sequential(*layers)\n",
        "\n",
        "  def forward(self, x):\n",
        "    return self.network(x)"
      ],
      "metadata": {
        "id": "EeWIZ8Lo1GEo"
      },
      "execution_count": 29,
      "outputs": []
    },
    {
      "cell_type": "code",
      "source": [
        "import optuna\n",
        "#objective function\n",
        "\n",
        "def objective(trial):\n",
        "  # next hyperparameter values from the search space\n",
        "  num_hidden_layers = trial.suggest_int(\"num_hidden_layers\", 1, 5)\n",
        "  neurons_per_layers = trial.suggest_int(\"neurons_per_layers\", 8, 128, step=8)\n",
        "\n",
        "  dropout_rate = trial.suggest_float(\"dropout_rate\", 0.1, 0.5, step=0.1)\n",
        "\n",
        "  batch_size = trial.suggest_categorical(\"batch_size\", [32, 64, 128])\n",
        "\n",
        "\n",
        "  train_loader = DataLoader(train_dataset, batch_size=batch_size, shuffle=True, pin_memory=True)\n",
        "  test_loader = DataLoader(test_dataset, batch_size=batch_size, shuffle=False, pin_memory=True)\n",
        "\n",
        "  # model init\n",
        "  input_dim = 784\n",
        "  output_dim = 10\n",
        "\n",
        "  model = MyNN(input_dim, output_dim, num_hidden_layers, neurons_per_layers, dropout_rate)\n",
        "  model.to(device)\n",
        "\n",
        "  # params init\n",
        "  epoch = trial.suggest_int(\"epoch\", 10, 50, step=10)\n",
        "  learning_rate = trial.suggest_float(\"learning_rate\", 1e-5, 1e-1, log=True)\n",
        "\n",
        "  # optimizer selection\n",
        "  criterion = nn.CrossEntropyLoss()\n",
        "  optimizer_name = trial.suggest_categorical(\"optimizer\", [\"Adam\", \"SGD\", \"RMSprop\"])\n",
        "  weight_decay = trial.suggest_float(\"weight_decay\", 1e-5, 1e-3, log=True)\n",
        "\n",
        "  if optimizer_name == \"Adam\":\n",
        "    optimizer = torch.optim.Adam(model.parameters(), lr=learning_rate, weight_decay=weight_decay)\n",
        "  elif optimizer_name == \"RMSprop\":\n",
        "    optimizer = torch.optim.RMSprop(model.parameters(), lr=learning_rate, weight_decay=weight_decay)\n",
        "  else:\n",
        "    optimizer = torch.optim.SGD(model.parameters(), lr=learning_rate, weight_decay=weight_decay) # adding lambda term \"weight_decay\" which will use L2 regularization\n",
        "\n",
        "  # training loop\n",
        "  for i in range(epoch):\n",
        "    for batch_x, batch_y in train_loader:\n",
        "      batch_x = batch_x.to(device)\n",
        "      batch_y = batch_y.to(device)\n",
        "      y_pred = model(batch_x)\n",
        "      loss = criterion(y_pred, batch_y)\n",
        "\n",
        "      optimizer.zero_grad()\n",
        "      loss.backward()\n",
        "      optimizer.step()\n",
        "\n",
        "  # evaluation\n",
        "  model.eval()\n",
        "  total = 0\n",
        "  correct = 0\n",
        "\n",
        "  with torch.no_grad():\n",
        "    for batch_x, batch_y in test_loader:\n",
        "      batch_x = batch_x.to(device)\n",
        "      batch_y = batch_y.to(device)\n",
        "      y_pred = model(batch_x)\n",
        "      _, predicted = torch.max(y_pred.data, 1)\n",
        "      total += batch_y.shape[0]\n",
        "      correct += (predicted == batch_y).sum().item()\n",
        "\n",
        "    Accuracy = 100 * correct / total\n",
        "  return Accuracy"
      ],
      "metadata": {
        "id": "_fSlrhZDi9Hp"
      },
      "execution_count": 30,
      "outputs": []
    },
    {
      "cell_type": "code",
      "source": [
        "study = optuna.create_study(direction='maximize')"
      ],
      "metadata": {
        "colab": {
          "base_uri": "https://localhost:8080/"
        },
        "id": "4ZWzMUKY_qxC",
        "outputId": "2ad0eb8c-0bac-4579-fd90-c2b5b7e96a3e"
      },
      "execution_count": 31,
      "outputs": [
        {
          "output_type": "stream",
          "name": "stderr",
          "text": [
            "[I 2025-06-05 08:17:18,048] A new study created in memory with name: no-name-f2053433-e05a-4065-bcf4-186d6bc17088\n"
          ]
        }
      ]
    },
    {
      "cell_type": "code",
      "source": [
        "study.optimize(objective, n_trials=10)"
      ],
      "metadata": {
        "colab": {
          "base_uri": "https://localhost:8080/"
        },
        "id": "ZvntXiHU_-rc",
        "outputId": "96e170e3-4cc6-4e51-c5e0-5868201f305c"
      },
      "execution_count": 32,
      "outputs": [
        {
          "output_type": "stream",
          "name": "stderr",
          "text": [
            "[I 2025-06-05 08:19:00,425] Trial 0 finished with value: 50.5 and parameters: {'num_hidden_layers': 4, 'neurons_per_layers': 48, 'dropout_rate': 0.2, 'batch_size': 128, 'epoch': 40, 'learning_rate': 3.442703747518311e-05, 'optimizer': 'SGD', 'weight_decay': 5.1951821676832875e-05}. Best is trial 0 with value: 50.5.\n",
            "[I 2025-06-05 08:24:02,654] Trial 1 finished with value: 95.03 and parameters: {'num_hidden_layers': 3, 'neurons_per_layers': 96, 'dropout_rate': 0.1, 'batch_size': 32, 'epoch': 50, 'learning_rate': 0.00022687726882254536, 'optimizer': 'SGD', 'weight_decay': 3.1151211393492894e-05}. Best is trial 1 with value: 95.03.\n",
            "[I 2025-06-05 08:26:33,240] Trial 2 finished with value: 97.93 and parameters: {'num_hidden_layers': 5, 'neurons_per_layers': 88, 'dropout_rate': 0.1, 'batch_size': 64, 'epoch': 30, 'learning_rate': 0.036711139882733695, 'optimizer': 'SGD', 'weight_decay': 0.0005269403682858592}. Best is trial 2 with value: 97.93.\n",
            "[I 2025-06-05 08:30:04,704] Trial 3 finished with value: 97.37 and parameters: {'num_hidden_layers': 1, 'neurons_per_layers': 80, 'dropout_rate': 0.30000000000000004, 'batch_size': 32, 'epoch': 30, 'learning_rate': 0.0006511989311533461, 'optimizer': 'Adam', 'weight_decay': 2.2043436454440208e-05}. Best is trial 2 with value: 97.93.\n",
            "[I 2025-06-05 08:31:26,133] Trial 4 finished with value: 91.75 and parameters: {'num_hidden_layers': 4, 'neurons_per_layers': 72, 'dropout_rate': 0.30000000000000004, 'batch_size': 64, 'epoch': 20, 'learning_rate': 0.000762014047203044, 'optimizer': 'SGD', 'weight_decay': 0.00014385328186019699}. Best is trial 2 with value: 97.93.\n",
            "[I 2025-06-05 08:33:25,797] Trial 5 finished with value: 58.09 and parameters: {'num_hidden_layers': 4, 'neurons_per_layers': 48, 'dropout_rate': 0.30000000000000004, 'batch_size': 128, 'epoch': 50, 'learning_rate': 4.9213315758093905e-05, 'optimizer': 'SGD', 'weight_decay': 5.0348526073118566e-05}. Best is trial 2 with value: 97.93.\n",
            "[I 2025-06-05 08:43:37,864] Trial 6 finished with value: 97.27 and parameters: {'num_hidden_layers': 5, 'neurons_per_layers': 72, 'dropout_rate': 0.30000000000000004, 'batch_size': 32, 'epoch': 50, 'learning_rate': 0.00032364563736992974, 'optimizer': 'RMSprop', 'weight_decay': 0.00012287232938809018}. Best is trial 2 with value: 97.93.\n",
            "[I 2025-06-05 08:45:39,996] Trial 7 finished with value: 91.59 and parameters: {'num_hidden_layers': 2, 'neurons_per_layers': 40, 'dropout_rate': 0.4, 'batch_size': 128, 'epoch': 50, 'learning_rate': 0.057497617740735064, 'optimizer': 'Adam', 'weight_decay': 7.205094214693394e-05}. Best is trial 2 with value: 97.93.\n",
            "[I 2025-06-05 08:47:32,763] Trial 8 finished with value: 92.57 and parameters: {'num_hidden_layers': 1, 'neurons_per_layers': 16, 'dropout_rate': 0.5, 'batch_size': 64, 'epoch': 40, 'learning_rate': 0.0006198924865968191, 'optimizer': 'Adam', 'weight_decay': 0.00016224129832212772}. Best is trial 2 with value: 97.93.\n",
            "[I 2025-06-05 08:50:21,997] Trial 9 finished with value: 95.32 and parameters: {'num_hidden_layers': 3, 'neurons_per_layers': 72, 'dropout_rate': 0.4, 'batch_size': 128, 'epoch': 50, 'learning_rate': 3.061828117489315e-05, 'optimizer': 'Adam', 'weight_decay': 0.0006095499513602903}. Best is trial 2 with value: 97.93.\n"
          ]
        }
      ]
    },
    {
      "cell_type": "code",
      "source": [
        "study.best_value, study.best_params"
      ],
      "metadata": {
        "colab": {
          "base_uri": "https://localhost:8080/"
        },
        "id": "M5amwWiqH434",
        "outputId": "fd123cf0-2328-4165-ca82-bdae59fa526d"
      },
      "execution_count": 33,
      "outputs": [
        {
          "output_type": "execute_result",
          "data": {
            "text/plain": [
              "(97.93,\n",
              " {'num_hidden_layers': 5,\n",
              "  'neurons_per_layers': 88,\n",
              "  'dropout_rate': 0.1,\n",
              "  'batch_size': 64,\n",
              "  'epoch': 30,\n",
              "  'learning_rate': 0.036711139882733695,\n",
              "  'optimizer': 'SGD',\n",
              "  'weight_decay': 0.0005269403682858592})"
            ]
          },
          "metadata": {},
          "execution_count": 33
        }
      ]
    },
    {
      "cell_type": "markdown",
      "source": [
        "### We can do MLFlow tracking to conclude more better our parameters values\n",
        "[https://mlflow.org/docs/latest/getting-started/index.html](https://mlflow.org/docs/latest/getting-started/index.html)"
      ],
      "metadata": {
        "id": "AXU3nGMIPXHt"
      }
    },
    {
      "cell_type": "code",
      "source": [],
      "metadata": {
        "id": "hK2-HTU4iXUW"
      },
      "execution_count": 25,
      "outputs": []
    },
    {
      "cell_type": "code",
      "source": [],
      "metadata": {
        "id": "Uf-Xjxgbrg6j"
      },
      "execution_count": null,
      "outputs": []
    }
  ]
}